{
 "cells": [
  {
   "cell_type": "code",
   "execution_count": 430,
   "metadata": {},
   "outputs": [],
   "source": [
    "#Какая идея\n",
    "#Собрать базу данных по венчурным компаниям из рызных индустрий и ппосмоотреть, насколько велик разброс оценки, \n",
    "#чтобы посмотреть насколько они эффективны \n",
    "#Проблема!!!\n",
    "#Все данные платные, но можно получить временный доступ к одной из баз данных\n",
    "#Но в ней максимально через кнопку можно экспортировтаь только 25 компаний из огромного множества\n",
    "#Для обхода написал парсер через селениум, чтобы скачивать больше\n",
    "#НО!!! Оказалось, что сайт умный и не позволяет парсеру скачать более 25 компаний, налагая ограниченяи на сам личный кабинет\n",
    "#Однако я понял это совсем не сразу, и довольно долго кодил через селениум, пока не накткунлся на эту проблему \n",
    "#Эти данные нужны были мне как для курсовой, так и для дз по ноду\n",
    "#Поэтому пришлось вручную собирать датасет, с которым я дальше работал (ссылка на него есть далее)\n",
    "#\n",
    "#Понимаю, что парсер не до конца работает, но надеюсь, что за навороты с селениумом смогу получить нормальные баллы\n",
    "#за этот пункт. Да и сам парсер работает, только скачать больше 25 компаний не может\n",
    "#Опять же, я понял, что он не работает не сразу, поэтому частично обрабатывал этот ограниченный датасет, \n",
    "#который получил с сайта\n",
    "#"
   ]
  },
  {
   "cell_type": "code",
   "execution_count": 527,
   "metadata": {},
   "outputs": [],
   "source": [
    "import numpy as np"
   ]
  },
  {
   "cell_type": "code",
   "execution_count": 2,
   "metadata": {},
   "outputs": [
    {
     "name": "stdout",
     "output_type": "stream",
     "text": [
      "Requirement already satisfied: selenium in c:\\users\\svzab\\anaconda3\\lib\\site-packages (3.141.0)\n",
      "Requirement already satisfied: urllib3 in c:\\users\\svzab\\anaconda3\\lib\\site-packages (from selenium) (1.24.2)\n"
     ]
    }
   ],
   "source": [
    "!pip install selenium"
   ]
  },
  {
   "cell_type": "code",
   "execution_count": 528,
   "metadata": {},
   "outputs": [
    {
     "name": "stdout",
     "output_type": "stream",
     "text": [
      "Requirement already satisfied: beautifulsoup4 in c:\\users\\svzab\\anaconda3\\lib\\site-packages (4.8.0)\n",
      "Requirement already satisfied: soupsieve>=1.2 in c:\\users\\svzab\\anaconda3\\lib\\site-packages (from beautifulsoup4) (1.9.3)\n"
     ]
    }
   ],
   "source": [
    "import requests \n",
    "!pip install beautifulsoup4\n",
    "from bs4 import BeautifulSoup"
   ]
  },
  {
   "cell_type": "code",
   "execution_count": 529,
   "metadata": {},
   "outputs": [],
   "source": [
    "import time\n",
    "time.sleep(3)"
   ]
  },
  {
   "cell_type": "code",
   "execution_count": 436,
   "metadata": {},
   "outputs": [],
   "source": [
    "from selenium import webdriver\n",
    "\n",
    "driver = webdriver.Chrome()"
   ]
  },
  {
   "cell_type": "code",
   "execution_count": 437,
   "metadata": {},
   "outputs": [],
   "source": [
    "ref = 'http://google.com'\n",
    "driver.get(ref)"
   ]
  },
  {
   "cell_type": "code",
   "execution_count": 438,
   "metadata": {},
   "outputs": [],
   "source": [
    "stroka = driver.find_element_by_name(\"q\")\n",
    "stroka.click()"
   ]
  },
  {
   "cell_type": "code",
   "execution_count": 439,
   "metadata": {},
   "outputs": [],
   "source": [
    "stroka.send_keys('dealroom')"
   ]
  },
  {
   "cell_type": "code",
   "execution_count": 440,
   "metadata": {},
   "outputs": [],
   "source": [
    "button = driver.find_element_by_name('btnK')\n",
    "button.click()"
   ]
  },
  {
   "cell_type": "code",
   "execution_count": 441,
   "metadata": {},
   "outputs": [
    {
     "data": {
      "text/plain": [
       "['https://app.dealroom.co/companies.startups',\n",
       " 'https://app.dealroom.co/dashboard',\n",
       " 'https://dealroom.co/about/',\n",
       " 'https://dealroom.co/api/',\n",
       " 'https://blog.dealroom.co/',\n",
       " 'https://dealroom.co/press/']"
      ]
     },
     "execution_count": 441,
     "metadata": {},
     "output_type": "execute_result"
    }
   ],
   "source": [
    "bs = BeautifulSoup(driver.page_source)\n",
    "\n",
    "dirty_hrefs = bs.find_all('h3',attrs={'class':'r'})\n",
    "clean_hrefs = [href.a['href'] for href in dirty_hrefs]\n",
    "clean_hrefs"
   ]
  },
  {
   "cell_type": "code",
   "execution_count": 442,
   "metadata": {},
   "outputs": [],
   "source": [
    "driver.get(clean_hrefs[1])"
   ]
  },
  {
   "cell_type": "code",
   "execution_count": 443,
   "metadata": {},
   "outputs": [
    {
     "name": "stdout",
     "output_type": "stream",
     "text": [
      "egaliev_1@edu.hse.ru\n",
      "ilovenod777\n"
     ]
    }
   ],
   "source": [
    "#пробный период на этот аккаунт уже закончился, поэтому проверяющему, к сожалениЮ, нужно будет создать свой аккаунт на этом сайте\n",
    "# И!!!!!! после регистрации надо будет запросить free trial, иначе без него будут видны только 5 компаний\n",
    "# При регистрации следует указывать университетский или рабочий mail, тк личные он не дает зарегистрировать \n",
    "login = input()\n",
    "password = input()\n",
    "#egaliev_1@edu.hse.ru\n",
    "#ilovenod777"
   ]
  },
  {
   "cell_type": "code",
   "execution_count": 444,
   "metadata": {},
   "outputs": [],
   "source": [
    "#нажимаем на кнопку логин\n",
    "buttons = driver.find_element_by_class_name(\"login-button\")\n",
    "buttons.click()"
   ]
  },
  {
   "cell_type": "code",
   "execution_count": 445,
   "metadata": {},
   "outputs": [],
   "source": [
    "# потом появится всплывающее окно справа. Его необходимо убрать вручную, иначе не получится вбить логин и пароль\n",
    "# убрать это окно с помощью кода не удалось"
   ]
  },
  {
   "cell_type": "code",
   "execution_count": 447,
   "metadata": {},
   "outputs": [],
   "source": [
    "#вводим логин\n",
    "login_pole = driver.find_element_by_id('email')   # Находим поле для логина\n",
    "login_pole.click()                                # Кликаем на это поле\n",
    "login_pole.send_keys(login)                       # Заполняем его нашим мылом"
   ]
  },
  {
   "cell_type": "code",
   "execution_count": 448,
   "metadata": {},
   "outputs": [],
   "source": [
    "#вводим пароль\n",
    "passw_pole = driver.find_element_by_id('password')    # Находим поле для пароля\n",
    "passw_pole.click()                                # Кликаем на это поле\n",
    "passw_pole.send_keys(password)               # Заполняем его нашим паролем"
   ]
  },
  {
   "cell_type": "code",
   "execution_count": 449,
   "metadata": {},
   "outputs": [],
   "source": [
    "login_buttom = driver.find_element_by_id('login') # находим кнопку для залогинивания\n",
    "login_buttom.click()                              # Логинимся!"
   ]
  },
  {
   "cell_type": "code",
   "execution_count": null,
   "metadata": {},
   "outputs": [],
   "source": [
    "# теперь появилось всплывающее окно слева. Его тоже надо убрать вручную"
   ]
  },
  {
   "cell_type": "code",
   "execution_count": 450,
   "metadata": {},
   "outputs": [],
   "source": [
    "#заходим в раунды\n",
    "rounds = driver.find_element_by_id(\"tooltip-6\")\n",
    "rounds.click()"
   ]
  },
  {
   "cell_type": "code",
   "execution_count": 451,
   "metadata": {},
   "outputs": [],
   "source": [
    "#по-другому заходим в раунды\n",
    "rounds_1=driver.find_elements_by_class_name(\"sidebar-menu-item__header\")\n",
    "rounds_1[4].click()\n",
    "#<a class=\"sidebar-menu-item__header\" itemprop=\"url name\" href=\"/transactions.rounds\"><span class=\"icon-font icon-tree sidebar-menu-item__icon\"><svg width=\"1em\" height=\"1em\" viewBox=\"0 0 24 24\" fill=\"none\" aria-labelledby=\"funding-rounds-menu-item\" style=\"width: 20px; height: 20px; font-size: 20px;\"><g stroke-width=\"2\" stroke-miterlimit=\"10\"><path d=\"M5.25 12.75C5.25 7.5 12 1.5 12 1.5s6.75 6.063 6.75 11.25a6.75 6.75 0 01-13.5 0z\" stroke-linecap=\"square\"></path><path d=\"M12 8.25v15M7.5 23.25h9M8.25 12L12 15.75 15.75 12\"></path></g></svg></span><span id=\"funding-rounds-menu-item\" class=\"sidebar-menu-item__title\">Funding rounds</span></a>"
   ]
  },
  {
   "cell_type": "code",
   "execution_count": 452,
   "metadata": {},
   "outputs": [],
   "source": [
    "#добавляем фильтры\n",
    "filt_1 = driver.find_element_by_class_name(\"button-advanced-facets\")\n",
    "filt_1.click()"
   ]
  },
  {
   "cell_type": "code",
   "execution_count": 453,
   "metadata": {},
   "outputs": [],
   "source": [
    "#нажимаем на кнопку с раундами\n",
    "click_rounds = driver.find_element_by_class_name(\"selectable-button\")\n",
    "click_rounds.click()\n",
    "#<button type=\"button\" class=\"selectable-button selectable-button--reverse\">Round</button>"
   ]
  },
  {
   "cell_type": "code",
   "execution_count": 454,
   "metadata": {},
   "outputs": [
    {
     "name": "stdout",
     "output_type": "stream",
     "text": [
      "[<selenium.webdriver.remote.webelement.WebElement (session=\"53bd29f77b69719ec782a514ec60395b\", element=\"a706d8a2-0631-43c7-9c1d-ff4b39b7fe8b\")>, <selenium.webdriver.remote.webelement.WebElement (session=\"53bd29f77b69719ec782a514ec60395b\", element=\"6237db8f-c671-4103-a43a-cfed93c90b87\")>, <selenium.webdriver.remote.webelement.WebElement (session=\"53bd29f77b69719ec782a514ec60395b\", element=\"93330a44-6b64-442c-9c5e-13f7c85f1f8b\")>, <selenium.webdriver.remote.webelement.WebElement (session=\"53bd29f77b69719ec782a514ec60395b\", element=\"5b305c62-5144-4c2f-a968-d872151f08fa\")>, <selenium.webdriver.remote.webelement.WebElement (session=\"53bd29f77b69719ec782a514ec60395b\", element=\"231ef089-b6c0-436a-a736-6898b842714a\")>, <selenium.webdriver.remote.webelement.WebElement (session=\"53bd29f77b69719ec782a514ec60395b\", element=\"632fa2b9-1ffc-4175-b20d-f911b27e85c4\")>]\n"
     ]
    }
   ],
   "source": [
    "wind = driver.find_elements_by_class_name('selectable-button')\n",
    "print(wind)\n",
    "#<button type=\"button\" class=\"selectable-button selectable-button--reverse\">Locations</button>"
   ]
  },
  {
   "cell_type": "code",
   "execution_count": 455,
   "metadata": {},
   "outputs": [],
   "source": [
    "wind[3].click()"
   ]
  },
  {
   "cell_type": "code",
   "execution_count": 456,
   "metadata": {},
   "outputs": [],
   "source": [
    "#выбираем раунд А\n",
    "series_A = driver.find_elements_by_class_name(\"control_indicator\")\n",
    "series_A[10].click()\n",
    "#<div class=\"control_indicator\"></div>"
   ]
  },
  {
   "cell_type": "code",
   "execution_count": 457,
   "metadata": {},
   "outputs": [],
   "source": [
    "#выбираем отрасль(\"бизнес\")\n",
    "wind[1].click()"
   ]
  },
  {
   "cell_type": "code",
   "execution_count": 458,
   "metadata": {},
   "outputs": [],
   "source": [
    "education = driver.find_elements_by_class_name(\"control_indicator\")\n",
    "education[8].click()"
   ]
  },
  {
   "cell_type": "code",
   "execution_count": 459,
   "metadata": {},
   "outputs": [],
   "source": [
    "#применяем фильтры\n",
    "driver.find_element_by_class_name('button-dark').click()\n",
    "#<button type=\"submit\" class=\"button button-dark button-medium\">Apply</button>"
   ]
  },
  {
   "cell_type": "code",
   "execution_count": 460,
   "metadata": {},
   "outputs": [],
   "source": [
    "# парсим сайт, чтобы найти фильтры, которых нет в предущей таблице\n",
    "bs_2 = BeautifulSoup(driver.page_source)\n",
    "#<ul class=\"item-list-column\"><li><a href=\"/transactions.rounds/f/industries/anyof_education/rounds/anyof_SERIES%20A\"> education </a></li><li><a href=\"/transactions.rounds/f/industries/anyof_education_kids/rounds/anyof_SERIES%20A\"> kids </a></li></ul>"
   ]
  },
  {
   "cell_type": "code",
   "execution_count": 461,
   "metadata": {},
   "outputs": [
    {
     "name": "stdout",
     "output_type": "stream",
     "text": [
      "[<div class=\"markets-column\"><ul class=\"item-list-column item-list-column--horizontal\"></ul><ul class=\"item-list-column\"><li><a href=\"/transactions.rounds/f/industries/anyof_education/rounds/anyof_SERIES%20A\"> education </a></li><li><a href=\"/transactions.rounds/f/industries/anyof_education_kids/rounds/anyof_SERIES%20A\"> kids </a></li></ul></div>, <div class=\"markets-column\"><ul class=\"item-list-column item-list-column--horizontal\"></ul><ul class=\"item-list-column\"><li><a href=\"/transactions.rounds/f/industries/anyof_education/rounds/anyof_SERIES%20A\"> education </a></li><li><a href=\"/transactions.rounds/f/industries/anyof_education_kids/rounds/anyof_SERIES%20A\"> kids </a></li></ul></div>, <div class=\"markets-column\"><ul class=\"item-list-column item-list-column--horizontal\"></ul><ul class=\"item-list-column\"><li><a href=\"/transactions.rounds/f/industries/anyof_education/rounds/anyof_SERIES%20A\"> education </a></li></ul></div>, <div class=\"markets-column\"><ul class=\"item-list-column item-list-column--horizontal\"></ul><ul class=\"item-list-column\"><li><a href=\"/transactions.rounds/f/industries/anyof_education/rounds/anyof_SERIES%20A\"> education </a></li></ul></div>, <div class=\"markets-column\"><ul class=\"item-list-column item-list-column--horizontal\"></ul><ul class=\"item-list-column\"><li><a href=\"/transactions.rounds/f/industries/anyof_education/rounds/anyof_SERIES%20A\"> education </a></li></ul></div>, <div class=\"markets-column\"><ul class=\"item-list-column item-list-column--horizontal\"></ul><ul class=\"item-list-column\"><li><a href=\"/transactions.rounds/f/industries/anyof_education/rounds/anyof_SERIES%20A\"> education </a></li></ul></div>, <div class=\"markets-column\"><ul class=\"item-list-column item-list-column--horizontal\"></ul><ul class=\"item-list-column\"><li><a href=\"/transactions.rounds/f/industries/anyof_education/rounds/anyof_SERIES%20A\"> education </a></li><li><a href=\"/transactions.rounds/f/industries/anyof_education_event%20tech/rounds/anyof_SERIES%20A\"> event tech </a></li></ul></div>, <div class=\"markets-column\"><ul class=\"item-list-column item-list-column--horizontal\"></ul><ul class=\"item-list-column\"><li><a href=\"/transactions.rounds/f/industries/anyof_education_security/rounds/anyof_SERIES%20A\"> security </a></li><li><a href=\"/transactions.rounds/f/industries/anyof_education/rounds/anyof_SERIES%20A\"> education </a></li><li class=\"item-list-column__item--secondary\"><a href=\"/transactions.rounds/f/industries/anyof_education/rounds/anyof_SERIES%20A/sub_industries/anyof_data%20protection\"> data protection </a></li></ul></div>, <div class=\"markets-column\"><ul class=\"item-list-column item-list-column--horizontal\"></ul><ul class=\"item-list-column\"><li><a href=\"/transactions.rounds/f/industries/anyof_education/rounds/anyof_SERIES%20A\"> education </a></li></ul></div>, <div class=\"markets-column\"><ul class=\"item-list-column item-list-column--horizontal\"></ul><ul class=\"item-list-column\"><li><a href=\"/transactions.rounds/f/industries/anyof_education/rounds/anyof_SERIES%20A\"> education </a></li></ul></div>, <div class=\"markets-column\"><ul class=\"item-list-column item-list-column--horizontal\"></ul><ul class=\"item-list-column\"><li><a href=\"/transactions.rounds/f/industries/anyof_education_telecom/rounds/anyof_SERIES%20A\"> telecom </a></li><li><a href=\"/transactions.rounds/f/industries/anyof_education/rounds/anyof_SERIES%20A\"> education </a></li></ul></div>, <div class=\"markets-column\"><ul class=\"item-list-column item-list-column--horizontal\"></ul><ul class=\"item-list-column\"><li><a href=\"/transactions.rounds/f/industries/anyof_education/rounds/anyof_SERIES%20A\"> education </a></li></ul></div>, <div class=\"markets-column\"><ul class=\"item-list-column item-list-column--horizontal\"></ul><ul class=\"item-list-column\"><li><a href=\"/transactions.rounds/f/industries/anyof_education/rounds/anyof_SERIES%20A\"> education </a></li></ul></div>, <div class=\"markets-column\"><ul class=\"item-list-column item-list-column--horizontal\"></ul><ul class=\"item-list-column\"><li><a href=\"/transactions.rounds/f/industries/anyof_education/rounds/anyof_SERIES%20A\"> education </a></li></ul></div>, <div class=\"markets-column\"><ul class=\"item-list-column item-list-column--horizontal\"></ul><ul class=\"item-list-column\"><li><a href=\"/transactions.rounds/f/industries/anyof_education/rounds/anyof_SERIES%20A\"> education </a></li><li><a href=\"/transactions.rounds/f/industries/anyof_education_kids/rounds/anyof_SERIES%20A\"> kids </a></li></ul></div>, <div class=\"markets-column\"><ul class=\"item-list-column item-list-column--horizontal\"></ul><ul class=\"item-list-column\"><li><a href=\"/transactions.rounds/f/industries/anyof_education_media/rounds/anyof_SERIES%20A\"> media </a></li><li><a href=\"/transactions.rounds/f/industries/anyof_education/rounds/anyof_SERIES%20A\"> education </a></li><li class=\"item-list-column__item--secondary\"><a href=\"/transactions.rounds/f/industries/anyof_education/rounds/anyof_SERIES%20A/sub_industries/anyof_content%20production\"> content production </a></li></ul></div>, <div class=\"markets-column\"><ul class=\"item-list-column item-list-column--horizontal\"></ul><ul class=\"item-list-column\"><li><a href=\"/transactions.rounds/f/industries/anyof_education/rounds/anyof_SERIES%20A\"> education </a></li></ul></div>, <div class=\"markets-column\"><ul class=\"item-list-column item-list-column--horizontal\"></ul><ul class=\"item-list-column\"><li><a href=\"/transactions.rounds/f/industries/anyof_education/rounds/anyof_SERIES%20A\"> education </a></li></ul></div>, <div class=\"markets-column\"><ul class=\"item-list-column item-list-column--horizontal\"></ul><ul class=\"item-list-column\"><li><a href=\"/transactions.rounds/f/industries/anyof_education/rounds/anyof_SERIES%20A\"> education </a></li></ul></div>, <div class=\"markets-column\"><ul class=\"item-list-column item-list-column--horizontal\"></ul><ul class=\"item-list-column\"><li><a href=\"/transactions.rounds/f/industries/anyof_education/rounds/anyof_SERIES%20A\"> education </a></li></ul></div>, <div class=\"markets-column\"><ul class=\"item-list-column item-list-column--horizontal\"></ul><ul class=\"item-list-column\"><li><a href=\"/transactions.rounds/f/industries/anyof_education/rounds/anyof_SERIES%20A\"> education </a></li></ul></div>, <div class=\"markets-column\"><ul class=\"item-list-column item-list-column--horizontal\"></ul><ul class=\"item-list-column\"><li><a href=\"/transactions.rounds/f/industries/anyof_education/rounds/anyof_SERIES%20A\"> education </a></li></ul></div>, <div class=\"markets-column\"><ul class=\"item-list-column item-list-column--horizontal\"></ul><ul class=\"item-list-column\"><li><a href=\"/transactions.rounds/f/industries/anyof_education_media/rounds/anyof_SERIES%20A\"> media </a></li><li><a href=\"/transactions.rounds/f/industries/anyof_education/rounds/anyof_SERIES%20A\"> education </a></li><li class=\"item-list-column__item--secondary\"><a href=\"/transactions.rounds/f/industries/anyof_education/rounds/anyof_SERIES%20A/sub_industries/anyof_content%20production\"> content production </a></li></ul></div>, <div class=\"markets-column\"><ul class=\"item-list-column item-list-column--horizontal\"></ul><ul class=\"item-list-column\"><li><a href=\"/transactions.rounds/f/industries/anyof_education_real%20estate/rounds/anyof_SERIES%20A\"> real estate </a></li><li><a href=\"/transactions.rounds/f/industries/anyof_education/rounds/anyof_SERIES%20A\"> education </a></li></ul></div>, <div class=\"markets-column\"><ul class=\"item-list-column item-list-column--horizontal\"></ul><ul class=\"item-list-column\"><li><a href=\"/transactions.rounds/f/industries/anyof_education/rounds/anyof_SERIES%20A\"> education </a></li><li><a href=\"/transactions.rounds/f/industries/anyof_education_jobs%20recruitment/rounds/anyof_SERIES%20A\"> jobs recruitment </a></li></ul></div>]\n"
     ]
    }
   ],
   "source": [
    "dirty_hrefs_2 = bs_2.find_all('div',attrs={'class':'markets-column'})\n",
    "print(dirty_hrefs_2)\n",
    "#<div class=\"markets-column\"><ul class=\"item-list-column item-list-column--horizontal\"></ul><ul class=\"item-list-column\"><li><a href=\"/transactions.rounds/f/industries/anyof_education/rounds/anyof_SERIES%20A\"> education </a></li><li><a href=\"/transactions.rounds/f/industries/anyof_education_kids/rounds/anyof_SERIES%20A\"> kids </a></li></ul></div>"
   ]
  },
  {
   "cell_type": "code",
   "execution_count": 462,
   "metadata": {},
   "outputs": [],
   "source": [
    "clean_hrefs_2 = ['https://app.dealroom.co' + href.a['href'] for href in dirty_hrefs_2]\n"
   ]
  },
  {
   "cell_type": "code",
   "execution_count": 463,
   "metadata": {},
   "outputs": [
    {
     "data": {
      "text/plain": [
       "['https://app.dealroom.co/transactions.rounds/f/industries/anyof_education/rounds/anyof_SERIES%20A',\n",
       " 'https://app.dealroom.co/transactions.rounds/f/industries/anyof_education/rounds/anyof_SERIES%20A',\n",
       " 'https://app.dealroom.co/transactions.rounds/f/industries/anyof_education/rounds/anyof_SERIES%20A',\n",
       " 'https://app.dealroom.co/transactions.rounds/f/industries/anyof_education/rounds/anyof_SERIES%20A',\n",
       " 'https://app.dealroom.co/transactions.rounds/f/industries/anyof_education/rounds/anyof_SERIES%20A',\n",
       " 'https://app.dealroom.co/transactions.rounds/f/industries/anyof_education/rounds/anyof_SERIES%20A',\n",
       " 'https://app.dealroom.co/transactions.rounds/f/industries/anyof_education/rounds/anyof_SERIES%20A',\n",
       " 'https://app.dealroom.co/transactions.rounds/f/industries/anyof_education_security/rounds/anyof_SERIES%20A',\n",
       " 'https://app.dealroom.co/transactions.rounds/f/industries/anyof_education/rounds/anyof_SERIES%20A',\n",
       " 'https://app.dealroom.co/transactions.rounds/f/industries/anyof_education/rounds/anyof_SERIES%20A',\n",
       " 'https://app.dealroom.co/transactions.rounds/f/industries/anyof_education_telecom/rounds/anyof_SERIES%20A',\n",
       " 'https://app.dealroom.co/transactions.rounds/f/industries/anyof_education/rounds/anyof_SERIES%20A',\n",
       " 'https://app.dealroom.co/transactions.rounds/f/industries/anyof_education/rounds/anyof_SERIES%20A',\n",
       " 'https://app.dealroom.co/transactions.rounds/f/industries/anyof_education/rounds/anyof_SERIES%20A',\n",
       " 'https://app.dealroom.co/transactions.rounds/f/industries/anyof_education/rounds/anyof_SERIES%20A',\n",
       " 'https://app.dealroom.co/transactions.rounds/f/industries/anyof_education_media/rounds/anyof_SERIES%20A',\n",
       " 'https://app.dealroom.co/transactions.rounds/f/industries/anyof_education/rounds/anyof_SERIES%20A',\n",
       " 'https://app.dealroom.co/transactions.rounds/f/industries/anyof_education/rounds/anyof_SERIES%20A',\n",
       " 'https://app.dealroom.co/transactions.rounds/f/industries/anyof_education/rounds/anyof_SERIES%20A',\n",
       " 'https://app.dealroom.co/transactions.rounds/f/industries/anyof_education/rounds/anyof_SERIES%20A',\n",
       " 'https://app.dealroom.co/transactions.rounds/f/industries/anyof_education/rounds/anyof_SERIES%20A',\n",
       " 'https://app.dealroom.co/transactions.rounds/f/industries/anyof_education/rounds/anyof_SERIES%20A',\n",
       " 'https://app.dealroom.co/transactions.rounds/f/industries/anyof_education_media/rounds/anyof_SERIES%20A',\n",
       " 'https://app.dealroom.co/transactions.rounds/f/industries/anyof_education_real%20estate/rounds/anyof_SERIES%20A',\n",
       " 'https://app.dealroom.co/transactions.rounds/f/industries/anyof_education/rounds/anyof_SERIES%20A']"
      ]
     },
     "execution_count": 463,
     "metadata": {},
     "output_type": "execute_result"
    }
   ],
   "source": [
    "clean_hrefs_2"
   ]
  },
  {
   "cell_type": "code",
   "execution_count": 464,
   "metadata": {},
   "outputs": [],
   "source": [
    "clean_hrefs_2 = np.unique(clean_hrefs_2)"
   ]
  },
  {
   "cell_type": "code",
   "execution_count": 465,
   "metadata": {},
   "outputs": [
    {
     "data": {
      "text/plain": [
       "array(['https://app.dealroom.co/transactions.rounds/f/industries/anyof_education/rounds/anyof_SERIES%20A',\n",
       "       'https://app.dealroom.co/transactions.rounds/f/industries/anyof_education_media/rounds/anyof_SERIES%20A',\n",
       "       'https://app.dealroom.co/transactions.rounds/f/industries/anyof_education_real%20estate/rounds/anyof_SERIES%20A',\n",
       "       'https://app.dealroom.co/transactions.rounds/f/industries/anyof_education_security/rounds/anyof_SERIES%20A',\n",
       "       'https://app.dealroom.co/transactions.rounds/f/industries/anyof_education_telecom/rounds/anyof_SERIES%20A'],\n",
       "      dtype='<U110')"
      ]
     },
     "execution_count": 465,
     "metadata": {},
     "output_type": "execute_result"
    }
   ],
   "source": [
    "clean_hrefs_2"
   ]
  },
  {
   "cell_type": "code",
   "execution_count": 466,
   "metadata": {},
   "outputs": [
    {
     "data": {
      "text/plain": [
       "'https://app.dealroom.co/transactions.rounds/f/industries/anyof_education_telecom/rounds/anyof_SERIES%20A'"
      ]
     },
     "execution_count": 466,
     "metadata": {},
     "output_type": "execute_result"
    }
   ],
   "source": [
    "clean_hrefs_2[-1]"
   ]
  },
  {
   "cell_type": "code",
   "execution_count": 495,
   "metadata": {},
   "outputs": [],
   "source": [
    "driver.get(clean_hrefs_2[4])"
   ]
  },
  {
   "cell_type": "code",
   "execution_count": null,
   "metadata": {},
   "outputs": [],
   "source": [
    "# далее я пытался вставить и другие ссылки-фильтры, но как только я вставлял одну, он забывал предыдущую"
   ]
  },
  {
   "cell_type": "code",
   "execution_count": 467,
   "metadata": {},
   "outputs": [],
   "source": [
    "# driver.get(clean_hrefs_2[3])"
   ]
  },
  {
   "cell_type": "code",
   "execution_count": 249,
   "metadata": {},
   "outputs": [],
   "source": [
    "#driver.get(clean_hrefs_2[3])"
   ]
  },
  {
   "cell_type": "code",
   "execution_count": 235,
   "metadata": {},
   "outputs": [],
   "source": [
    "#driver.get(clean_hrefs_2[4])"
   ]
  },
  {
   "cell_type": "code",
   "execution_count": 468,
   "metadata": {},
   "outputs": [],
   "source": [
    "tree = BeautifulSoup(driver.page_source)"
   ]
  },
  {
   "cell_type": "code",
   "execution_count": 470,
   "metadata": {},
   "outputs": [
    {
     "name": "stdout",
     "output_type": "stream",
     "text": [
      "25\n"
     ]
    },
    {
     "data": {
      "text/plain": [
       "<div class=\"table-list-item scrolled\" style=\"opacity: 1; transition: opacity 0.1s ease 0s; transform: translate3d(0px, 90px, 0px); height: 90px; z-index: 0;\"><div class=\"table-list-columns-fixed hbox\"><div class=\"table-list-column name\"><div class=\"name-column-wrapper\"><div class=\"image-wrapper\"><img alt=\"LingoAce\" src=\"https://s3-eu-west-1.amazonaws.com/dealroom-images/ab/NzQ6NzQ6Y29tcGFueUBzMy1ldS13ZXN0LTEuYW1hem9uYXdzLmNvbS9kZWFscm9vbS1pbWFnZXMvMjAyMC8wNi8wOC9hOWY3MmFkNGZkMTEwNWM4YWQ2YWU3YWEwZjg0YzMzZA==.jpg\"/></div><div class=\"info\"><div class=\"name\"><a href=\"/companies/lingoace\">LingoAce</a></div><div class=\"tagline\">Online Chinese language learning platform for 6-15 years old students</div></div></div></div></div><div class=\"table-list-columns\"><div class=\"table-list-column locations\"><span>Singapore</span></div><div class=\"table-list-column valuation\"><span class=\"valuation\" id=\"tooltip-25\"><span><span class=\"valuation__value\">$28m - $42m</span></span></span></div><div class=\"table-list-column _amount\"><div class=\"funding-round-cell-wrapper\"><div>$7m SERIES A</div></div></div><div class=\"table-list-column date sorting\">Jun 2020</div></div></div>"
      ]
     },
     "execution_count": 470,
     "metadata": {},
     "output_type": "execute_result"
    }
   ],
   "source": [
    "#вот тут парсю блок с компаниями, но он всегда останавливается на 25 из-за вышеописанной проблемы\n",
    "company =  tree.find_all('div', {'class' : 'table-list-item'})\n",
    "print(len(company))\n",
    "company[1]\n",
    "#<div class=\"table-list-item\" style=\"opacity: 1; transition: opacity 0.1s ease 0s; transform: translate3d(0px, 0px, 0px); height: 90px; z-index: 0;\"><div class=\"table-list-columns-fixed hbox\"><div class=\"table-list-column name\"><div class=\"name-column-wrapper\"><div class=\"image-wrapper\"><img alt=\"Tech Will Save Us\" src=\"https://s3-eu-west-1.amazonaws.com/dealroom-images/dc/NzQ6NzQ6Y29tcGFueUBzMy1ldS13ZXN0LTEuYW1hem9uYXdzLmNvbS9kZWFscm9vbS1pbWFnZXMvMjAxOC8xMS8yOS8zYzI3ZDEwNGEzMzQwODk0NjE1Y2YwZDFmYTBkNGVkYg==.jpg\"></div><div class=\"info\"><div class=\"name\"><a href=\"/companies/technology_will_save_us_limited\">Tech Will Save Us</a></div><div class=\"tagline\">UK design-led, technology start-ups focused on learning</div></div></div></div></div><div class=\"table-list-columns\"><div class=\"table-list-column investors\"><ul class=\"item-list-column\"><li><a href=\"/companies/seedrs\"> Seedrs </a></li></ul></div><div class=\"table-list-column market\"><div class=\"markets-column\"><ul class=\"item-list-column item-list-column--horizontal\"></ul><ul class=\"item-list-column\"><li><a href=\"/transactions.rounds/f/industries/anyof_education/rounds/anyof_SERIES%20A\"> education </a></li><li><a href=\"/transactions.rounds/f/industries/anyof_education_kids/rounds/anyof_SERIES%20A\"> kids </a></li></ul></div></div><div class=\"table-list-column locations\"><span>London</span></div><div class=\"table-list-column valuation\"><span id=\"tooltip-7886\" class=\"valuation\"><span><span class=\"valuation__value\">£2m - £3m</span></span></span></div><div class=\"table-list-column _amount\"><div class=\"funding-round-cell-wrapper\"><div>£440k SERIES A</div></div></div><div class=\"table-list-column date sorting\">May 2020</div></div></div>"
   ]
  },
  {
   "cell_type": "code",
   "execution_count": 471,
   "metadata": {},
   "outputs": [
    {
     "data": {
      "text/plain": [
       "bs4.element.ResultSet"
      ]
     },
     "execution_count": 471,
     "metadata": {},
     "output_type": "execute_result"
    }
   ],
   "source": [
    "type(company)"
   ]
  },
  {
   "cell_type": "code",
   "execution_count": 472,
   "metadata": {},
   "outputs": [
    {
     "data": {
      "text/plain": [
       "25"
      ]
     },
     "execution_count": 472,
     "metadata": {},
     "output_type": "execute_result"
    }
   ],
   "source": [
    "len(company)"
   ]
  },
  {
   "cell_type": "code",
   "execution_count": null,
   "metadata": {},
   "outputs": [],
   "source": [
    "#будем искать round,location,valuation,date,name"
   ]
  },
  {
   "cell_type": "code",
   "execution_count": 474,
   "metadata": {},
   "outputs": [
    {
     "data": {
      "text/plain": [
       "'3.600000'"
      ]
     },
     "execution_count": 474,
     "metadata": {},
     "output_type": "execute_result"
    }
   ],
   "source": [
    "round_ = company[2].find('div', {'class' : 'funding-round-cell-wrapper'})\n",
    "round_.text.strip('$ SERIES A').replace('m','00000')"
   ]
  },
  {
   "cell_type": "code",
   "execution_count": 475,
   "metadata": {},
   "outputs": [
    {
     "data": {
      "text/plain": [
       "'$3.6m SERIES A'"
      ]
     },
     "execution_count": 475,
     "metadata": {},
     "output_type": "execute_result"
    }
   ],
   "source": [
    "round_ = company[2].find('div', {'class' : 'funding-round-cell-wrapper'})\n",
    "round_.text"
   ]
  },
  {
   "cell_type": "code",
   "execution_count": 476,
   "metadata": {},
   "outputs": [
    {
     "data": {
      "text/plain": [
       "'London'"
      ]
     },
     "execution_count": 476,
     "metadata": {},
     "output_type": "execute_result"
    }
   ],
   "source": [
    "location = company[2].find('div', {'class' : 'table-list-column locations'})\n",
    "location.text\n",
    "#<div class=\"table-list-column locations\"><span>London</span></div>"
   ]
  },
  {
   "cell_type": "code",
   "execution_count": 478,
   "metadata": {},
   "outputs": [
    {
     "data": {
      "text/plain": [
       "'$30m - $45m'"
      ]
     },
     "execution_count": 478,
     "metadata": {},
     "output_type": "execute_result"
    }
   ],
   "source": [
    "valuation = company[0].find('div', {'class' : 'table-list-column valuation'})\n",
    "valuation.text\n",
    "#<div class=\"table-list-column valuation\"><span id=\"tooltip-7886\" class=\"valuation\"><span><span class=\"valuation__value\">£2m - £3m</span></span></span></div>"
   ]
  },
  {
   "cell_type": "code",
   "execution_count": 479,
   "metadata": {},
   "outputs": [
    {
     "data": {
      "text/plain": [
       "'Jun 2020'"
      ]
     },
     "execution_count": 479,
     "metadata": {},
     "output_type": "execute_result"
    }
   ],
   "source": [
    "date = company[0].find('div', {'class' : 'table-list-column date sorting'})\n",
    "date.text\n",
    "#<div class=\"table-list-column date sorting\">May 2020</div>"
   ]
  },
  {
   "cell_type": "code",
   "execution_count": 480,
   "metadata": {},
   "outputs": [
    {
     "data": {
      "text/plain": [
       "'Ajar'"
      ]
     },
     "execution_count": 480,
     "metadata": {},
     "output_type": "execute_result"
    }
   ],
   "source": [
    "name = company[0].find('div', {'class' : 'name'})\n",
    "name.a.text\n",
    "#<div class=\"name\"><a href=\"/companies/technology_will_save_us_limited\">Tech Will Save Us</a></div>"
   ]
  },
  {
   "cell_type": "code",
   "execution_count": 497,
   "metadata": {},
   "outputs": [],
   "source": [
    "# тут разные валюты, поэтому отсеиваю все, кроме долларов.\n",
    "# таким образом точно уходят китай и япония, поэтому нет смысла их отдельно убирать, так как они сами дропнуться, \n",
    "#когда я буду исключать всех с неправильной валютой\n",
    "infa = []\n",
    "currency = '$'\n",
    "million = \"m\"\n",
    "thousand = 'k'\n",
    "dot ='.'\n",
    "company =  tree.find_all('div', {'class' : 'table-list-item'})\n",
    "for item in company:\n",
    "    name = item.find('div', {'class' : 'name'})\n",
    "    location = item.find('div', {'class' : 'table-list-column locations'})\n",
    "    valuation = item.find('div', {'class' : 'table-list-column valuation'})\n",
    "    date = item.find('div', {'class' : 'table-list-column date sorting'})\n",
    "    round_A = item.find('div', {'class' : 'funding-round-cell-wrapper'})\n",
    "    if currency in round_A.text:\n",
    "        if million in round_A.text:\n",
    "            if dot in round_A.text:\n",
    "                round_int = round_A.text.strip('$ SERIES A').replace('m','00000') \n",
    "            else:\n",
    "                round_int = round_A.text.strip('$ SERIES A').replace('m','000000')\n",
    "        elif thousand in round_A.text:\n",
    "            round_int = round_A.text.strip('$ SERIES A').replace('k','000')\n",
    "        else:\n",
    "            round_int = round_A.text.strip('$ SERIES A')\n",
    "    else:\n",
    "        round_int = 'вал_непр'\n",
    "    infa.append({'name': name.a.text,\n",
    "                     'location': location.text,\n",
    "                     'valuation': valuation.text,\n",
    "                     'date': date.text,\n",
    "                     'round_A': round_int})"
   ]
  },
  {
   "cell_type": "code",
   "execution_count": 482,
   "metadata": {
    "collapsed": true
   },
   "outputs": [
    {
     "data": {
      "text/plain": [
       "[{'name': 'Ajar',\n",
       "  'location': 'Kuwait City',\n",
       "  'valuation': '$30m - $45m',\n",
       "  'date': 'Jun 2020',\n",
       "  'round_A': '7.500000'},\n",
       " {'name': 'LingoAce',\n",
       "  'location': 'Singapore',\n",
       "  'valuation': '$28m - $42m',\n",
       "  'date': 'Jun 2020',\n",
       "  'round_A': '7000000'},\n",
       " {'name': 'Hubble HQ',\n",
       "  'location': 'London',\n",
       "  'valuation': '$14m - $22m',\n",
       "  'date': 'Jun 2020',\n",
       "  'round_A': '3.600000'},\n",
       " {'name': 'Nesto',\n",
       "  'location': 'Montreal',\n",
       "  'valuation': 'CAD46m - CAD69m',\n",
       "  'date': 'Jun 2020',\n",
       "  'round_A': 'вал_непр'},\n",
       " {'name': 'Tech Will Save Us',\n",
       "  'location': 'London',\n",
       "  'valuation': '£2m - £3m',\n",
       "  'date': 'May 2020',\n",
       "  'round_A': 'вал_непр'},\n",
       " {'name': 'Growth Tribe',\n",
       "  'location': 'Amsterdam',\n",
       "  'valuation': '€12m - €18m',\n",
       "  'date': 'May 2020',\n",
       "  'round_A': 'вал_непр'},\n",
       " {'name': 'Northspyre',\n",
       "  'location': 'New York',\n",
       "  'valuation': '$30m - $45m',\n",
       "  'date': 'May 2020',\n",
       "  'round_A': '7.500000'},\n",
       " {'name': 'Briq',\n",
       "  'location': 'Santa Barbara',\n",
       "  'valuation': '$40m - $60m',\n",
       "  'date': 'May 2020',\n",
       "  'round_A': '10000000'},\n",
       " {'name': 'StructionSite',\n",
       "  'location': 'San Francisco',\n",
       "  'valuation': '$28m - $42m',\n",
       "  'date': 'May 2020',\n",
       "  'round_A': '7000000'},\n",
       " {'name': 'IntelliBoard',\n",
       "  'location': 'Monroe',\n",
       "  'valuation': '$14m - $20m',\n",
       "  'date': 'May 2020',\n",
       "  'round_A': '3.400000'},\n",
       " {'name': 'Locatee',\n",
       "  'location': 'Zurich',\n",
       "  'valuation': '$16m - $24m',\n",
       "  'date': 'May 2020',\n",
       "  'round_A': '4000000'},\n",
       " {'name': 'Different',\n",
       "  'location': 'Darlinghurst',\n",
       "  'valuation': '$28m - $43m',\n",
       "  'date': 'May 2020',\n",
       "  'round_A': '7.100000'},\n",
       " {'name': 'One Utility Bill',\n",
       "  'location': 'Newcastle upon Tyne',\n",
       "  'valuation': '£7m - £10m',\n",
       "  'date': 'Apr 2020',\n",
       "  'round_A': 'вал_непр'},\n",
       " {'name': 'BibliU',\n",
       "  'location': 'London',\n",
       "  'valuation': '$40m - $60m',\n",
       "  'date': 'Apr 2020',\n",
       "  'round_A': '10000000'},\n",
       " {'name': 'SoundmateS',\n",
       "  'location': 'New York',\n",
       "  'valuation': '-',\n",
       "  'date': 'Apr 2020',\n",
       "  'round_A': 'вал_непр'},\n",
       " {'name': 'Frame AI',\n",
       "  'location': 'New York',\n",
       "  'valuation': '$25m - $38m',\n",
       "  'date': 'Apr 2020',\n",
       "  'round_A': '6.300000'},\n",
       " {'name': 'Archistar',\n",
       "  'location': 'Sydney',\n",
       "  'valuation': '$24m - $36m',\n",
       "  'date': 'Apr 2020',\n",
       "  'round_A': '6000000'},\n",
       " {'name': 'Codemotion',\n",
       "  'location': 'Rome',\n",
       "  'valuation': '€24m - €36m',\n",
       "  'date': 'Apr 2020',\n",
       "  'round_A': 'вал_непр'},\n",
       " {'name': 'IFM Restoration',\n",
       "  'location': 'Dallas',\n",
       "  'valuation': '$40m - $60m',\n",
       "  'date': 'Apr 2020',\n",
       "  'round_A': '1000000 SERIES ANot included in VC statistics. Outside tech.'},\n",
       " {'name': 'Arturo',\n",
       "  'location': 'Chicago',\n",
       "  'valuation': '$32m - $48m',\n",
       "  'date': 'Apr 2020',\n",
       "  'round_A': '8000000'},\n",
       " {'name': 'Solaire Box',\n",
       "  'location': 'Paris',\n",
       "  'valuation': '€6m - €8m',\n",
       "  'date': 'Apr 2020',\n",
       "  'round_A': 'вал_непр'},\n",
       " {'name': 'Datapred',\n",
       "  'location': 'Lausanne',\n",
       "  'valuation': '-',\n",
       "  'date': 'Apr 2020',\n",
       "  'round_A': 'вал_непр'},\n",
       " {'name': 'Pulse Q&A',\n",
       "  'location': 'San Francisco',\n",
       "  'valuation': '$26m - $39m',\n",
       "  'date': 'Apr 2020',\n",
       "  'round_A': '6.500000'},\n",
       " {'name': 'Codeit',\n",
       "  'location': 'Seoul',\n",
       "  'valuation': 'KRW16.0b - KRW24.0b',\n",
       "  'date': 'Apr 2020',\n",
       "  'round_A': 'вал_непр'},\n",
       " {'name': 'Transactly',\n",
       "  'location': 'Saint Charles',\n",
       "  'valuation': '$12m - $18m',\n",
       "  'date': 'Mar 2020',\n",
       "  'round_A': '3000000'}]"
      ]
     },
     "execution_count": 482,
     "metadata": {},
     "output_type": "execute_result"
    }
   ],
   "source": [
    "infa"
   ]
  },
  {
   "cell_type": "code",
   "execution_count": 483,
   "metadata": {},
   "outputs": [
    {
     "data": {
      "text/plain": [
       "25"
      ]
     },
     "execution_count": 483,
     "metadata": {},
     "output_type": "execute_result"
    }
   ],
   "source": [
    "#\"опять двадцать пять\"\n",
    "len(infa)"
   ]
  },
  {
   "cell_type": "code",
   "execution_count": 498,
   "metadata": {},
   "outputs": [
    {
     "name": "stdout",
     "output_type": "stream",
     "text": [
      "(25, 5)\n"
     ]
    },
    {
     "data": {
      "text/html": [
       "<div>\n",
       "<style scoped>\n",
       "    .dataframe tbody tr th:only-of-type {\n",
       "        vertical-align: middle;\n",
       "    }\n",
       "\n",
       "    .dataframe tbody tr th {\n",
       "        vertical-align: top;\n",
       "    }\n",
       "\n",
       "    .dataframe thead th {\n",
       "        text-align: right;\n",
       "    }\n",
       "</style>\n",
       "<table border=\"1\" class=\"dataframe\">\n",
       "  <thead>\n",
       "    <tr style=\"text-align: right;\">\n",
       "      <th></th>\n",
       "      <th>name</th>\n",
       "      <th>location</th>\n",
       "      <th>valuation</th>\n",
       "      <th>date</th>\n",
       "      <th>round_A</th>\n",
       "    </tr>\n",
       "  </thead>\n",
       "  <tbody>\n",
       "    <tr>\n",
       "      <td>0</td>\n",
       "      <td>Ajar</td>\n",
       "      <td>Kuwait City</td>\n",
       "      <td>$30m - $45m</td>\n",
       "      <td>Jun 2020</td>\n",
       "      <td>7.500000</td>\n",
       "    </tr>\n",
       "    <tr>\n",
       "      <td>1</td>\n",
       "      <td>LingoAce</td>\n",
       "      <td>Singapore</td>\n",
       "      <td>$28m - $42m</td>\n",
       "      <td>Jun 2020</td>\n",
       "      <td>7000000</td>\n",
       "    </tr>\n",
       "    <tr>\n",
       "      <td>2</td>\n",
       "      <td>Hubble HQ</td>\n",
       "      <td>London</td>\n",
       "      <td>$14m - $22m</td>\n",
       "      <td>Jun 2020</td>\n",
       "      <td>3.600000</td>\n",
       "    </tr>\n",
       "    <tr>\n",
       "      <td>3</td>\n",
       "      <td>Nesto</td>\n",
       "      <td>Montreal</td>\n",
       "      <td>CAD46m - CAD69m</td>\n",
       "      <td>Jun 2020</td>\n",
       "      <td>вал_непр</td>\n",
       "    </tr>\n",
       "    <tr>\n",
       "      <td>4</td>\n",
       "      <td>Tech Will Save Us</td>\n",
       "      <td>London</td>\n",
       "      <td>£2m - £3m</td>\n",
       "      <td>May 2020</td>\n",
       "      <td>вал_непр</td>\n",
       "    </tr>\n",
       "    <tr>\n",
       "      <td>5</td>\n",
       "      <td>Growth Tribe</td>\n",
       "      <td>Amsterdam</td>\n",
       "      <td>€12m - €18m</td>\n",
       "      <td>May 2020</td>\n",
       "      <td>вал_непр</td>\n",
       "    </tr>\n",
       "    <tr>\n",
       "      <td>6</td>\n",
       "      <td>Northspyre</td>\n",
       "      <td>New York</td>\n",
       "      <td>$30m - $45m</td>\n",
       "      <td>May 2020</td>\n",
       "      <td>7.500000</td>\n",
       "    </tr>\n",
       "    <tr>\n",
       "      <td>7</td>\n",
       "      <td>Briq</td>\n",
       "      <td>Santa Barbara</td>\n",
       "      <td>$40m - $60m</td>\n",
       "      <td>May 2020</td>\n",
       "      <td>10000000</td>\n",
       "    </tr>\n",
       "    <tr>\n",
       "      <td>8</td>\n",
       "      <td>StructionSite</td>\n",
       "      <td>San Francisco</td>\n",
       "      <td>$28m - $42m</td>\n",
       "      <td>May 2020</td>\n",
       "      <td>7000000</td>\n",
       "    </tr>\n",
       "    <tr>\n",
       "      <td>9</td>\n",
       "      <td>IntelliBoard</td>\n",
       "      <td>Monroe</td>\n",
       "      <td>$14m - $20m</td>\n",
       "      <td>May 2020</td>\n",
       "      <td>3.400000</td>\n",
       "    </tr>\n",
       "    <tr>\n",
       "      <td>10</td>\n",
       "      <td>Locatee</td>\n",
       "      <td>Zurich</td>\n",
       "      <td>$16m - $24m</td>\n",
       "      <td>May 2020</td>\n",
       "      <td>4000000</td>\n",
       "    </tr>\n",
       "    <tr>\n",
       "      <td>11</td>\n",
       "      <td>Different</td>\n",
       "      <td>Darlinghurst</td>\n",
       "      <td>$28m - $43m</td>\n",
       "      <td>May 2020</td>\n",
       "      <td>7.100000</td>\n",
       "    </tr>\n",
       "    <tr>\n",
       "      <td>12</td>\n",
       "      <td>One Utility Bill</td>\n",
       "      <td>Newcastle upon Tyne</td>\n",
       "      <td>£7m - £10m</td>\n",
       "      <td>Apr 2020</td>\n",
       "      <td>вал_непр</td>\n",
       "    </tr>\n",
       "    <tr>\n",
       "      <td>13</td>\n",
       "      <td>BibliU</td>\n",
       "      <td>London</td>\n",
       "      <td>$40m - $60m</td>\n",
       "      <td>Apr 2020</td>\n",
       "      <td>10000000</td>\n",
       "    </tr>\n",
       "    <tr>\n",
       "      <td>14</td>\n",
       "      <td>SoundmateS</td>\n",
       "      <td>New York</td>\n",
       "      <td>-</td>\n",
       "      <td>Apr 2020</td>\n",
       "      <td>вал_непр</td>\n",
       "    </tr>\n",
       "    <tr>\n",
       "      <td>15</td>\n",
       "      <td>Frame AI</td>\n",
       "      <td>New York</td>\n",
       "      <td>$25m - $38m</td>\n",
       "      <td>Apr 2020</td>\n",
       "      <td>6.300000</td>\n",
       "    </tr>\n",
       "    <tr>\n",
       "      <td>16</td>\n",
       "      <td>Archistar</td>\n",
       "      <td>Sydney</td>\n",
       "      <td>$24m - $36m</td>\n",
       "      <td>Apr 2020</td>\n",
       "      <td>6000000</td>\n",
       "    </tr>\n",
       "    <tr>\n",
       "      <td>17</td>\n",
       "      <td>Codemotion</td>\n",
       "      <td>Rome</td>\n",
       "      <td>€24m - €36m</td>\n",
       "      <td>Apr 2020</td>\n",
       "      <td>вал_непр</td>\n",
       "    </tr>\n",
       "    <tr>\n",
       "      <td>18</td>\n",
       "      <td>IFM Restoration</td>\n",
       "      <td>Dallas</td>\n",
       "      <td>$40m - $60m</td>\n",
       "      <td>Apr 2020</td>\n",
       "      <td>1000000 SERIES ANot included in VC statistics....</td>\n",
       "    </tr>\n",
       "    <tr>\n",
       "      <td>19</td>\n",
       "      <td>Arturo</td>\n",
       "      <td>Chicago</td>\n",
       "      <td>$32m - $48m</td>\n",
       "      <td>Apr 2020</td>\n",
       "      <td>8000000</td>\n",
       "    </tr>\n",
       "    <tr>\n",
       "      <td>20</td>\n",
       "      <td>Solaire Box</td>\n",
       "      <td>Paris</td>\n",
       "      <td>€6m - €8m</td>\n",
       "      <td>Apr 2020</td>\n",
       "      <td>вал_непр</td>\n",
       "    </tr>\n",
       "    <tr>\n",
       "      <td>21</td>\n",
       "      <td>Datapred</td>\n",
       "      <td>Lausanne</td>\n",
       "      <td>-</td>\n",
       "      <td>Apr 2020</td>\n",
       "      <td>вал_непр</td>\n",
       "    </tr>\n",
       "    <tr>\n",
       "      <td>22</td>\n",
       "      <td>Pulse Q&amp;A</td>\n",
       "      <td>San Francisco</td>\n",
       "      <td>$26m - $39m</td>\n",
       "      <td>Apr 2020</td>\n",
       "      <td>6.500000</td>\n",
       "    </tr>\n",
       "    <tr>\n",
       "      <td>23</td>\n",
       "      <td>Codeit</td>\n",
       "      <td>Seoul</td>\n",
       "      <td>KRW16.0b - KRW24.0b</td>\n",
       "      <td>Apr 2020</td>\n",
       "      <td>вал_непр</td>\n",
       "    </tr>\n",
       "    <tr>\n",
       "      <td>24</td>\n",
       "      <td>Transactly</td>\n",
       "      <td>Saint Charles</td>\n",
       "      <td>$12m - $18m</td>\n",
       "      <td>Mar 2020</td>\n",
       "      <td>3000000</td>\n",
       "    </tr>\n",
       "  </tbody>\n",
       "</table>\n",
       "</div>"
      ],
      "text/plain": [
       "                 name             location            valuation      date  \\\n",
       "0                Ajar          Kuwait City          $30m - $45m  Jun 2020   \n",
       "1            LingoAce            Singapore          $28m - $42m  Jun 2020   \n",
       "2           Hubble HQ               London          $14m - $22m  Jun 2020   \n",
       "3               Nesto             Montreal      CAD46m - CAD69m  Jun 2020   \n",
       "4   Tech Will Save Us               London            £2m - £3m  May 2020   \n",
       "5        Growth Tribe            Amsterdam          €12m - €18m  May 2020   \n",
       "6          Northspyre             New York          $30m - $45m  May 2020   \n",
       "7                Briq        Santa Barbara          $40m - $60m  May 2020   \n",
       "8       StructionSite        San Francisco          $28m - $42m  May 2020   \n",
       "9        IntelliBoard               Monroe          $14m - $20m  May 2020   \n",
       "10            Locatee               Zurich          $16m - $24m  May 2020   \n",
       "11          Different         Darlinghurst          $28m - $43m  May 2020   \n",
       "12   One Utility Bill  Newcastle upon Tyne           £7m - £10m  Apr 2020   \n",
       "13             BibliU               London          $40m - $60m  Apr 2020   \n",
       "14         SoundmateS             New York                    -  Apr 2020   \n",
       "15           Frame AI             New York          $25m - $38m  Apr 2020   \n",
       "16          Archistar               Sydney          $24m - $36m  Apr 2020   \n",
       "17         Codemotion                 Rome          €24m - €36m  Apr 2020   \n",
       "18    IFM Restoration               Dallas          $40m - $60m  Apr 2020   \n",
       "19             Arturo              Chicago          $32m - $48m  Apr 2020   \n",
       "20        Solaire Box                Paris            €6m - €8m  Apr 2020   \n",
       "21           Datapred             Lausanne                    -  Apr 2020   \n",
       "22          Pulse Q&A        San Francisco          $26m - $39m  Apr 2020   \n",
       "23             Codeit                Seoul  KRW16.0b - KRW24.0b  Apr 2020   \n",
       "24         Transactly        Saint Charles          $12m - $18m  Mar 2020   \n",
       "\n",
       "                                              round_A  \n",
       "0                                            7.500000  \n",
       "1                                             7000000  \n",
       "2                                            3.600000  \n",
       "3                                            вал_непр  \n",
       "4                                            вал_непр  \n",
       "5                                            вал_непр  \n",
       "6                                            7.500000  \n",
       "7                                            10000000  \n",
       "8                                             7000000  \n",
       "9                                            3.400000  \n",
       "10                                            4000000  \n",
       "11                                           7.100000  \n",
       "12                                           вал_непр  \n",
       "13                                           10000000  \n",
       "14                                           вал_непр  \n",
       "15                                           6.300000  \n",
       "16                                            6000000  \n",
       "17                                           вал_непр  \n",
       "18  1000000 SERIES ANot included in VC statistics....  \n",
       "19                                            8000000  \n",
       "20                                           вал_непр  \n",
       "21                                           вал_непр  \n",
       "22                                           6.500000  \n",
       "23                                           вал_непр  \n",
       "24                                            3000000  "
      ]
     },
     "execution_count": 498,
     "metadata": {},
     "output_type": "execute_result"
    }
   ],
   "source": [
    "import pandas as pd\n",
    "\n",
    "df = pd.DataFrame(infa)\n",
    "print(df.shape)\n",
    "df"
   ]
  },
  {
   "cell_type": "code",
   "execution_count": 506,
   "metadata": {},
   "outputs": [
    {
     "data": {
      "text/html": [
       "<div>\n",
       "<style scoped>\n",
       "    .dataframe tbody tr th:only-of-type {\n",
       "        vertical-align: middle;\n",
       "    }\n",
       "\n",
       "    .dataframe tbody tr th {\n",
       "        vertical-align: top;\n",
       "    }\n",
       "\n",
       "    .dataframe thead th {\n",
       "        text-align: right;\n",
       "    }\n",
       "</style>\n",
       "<table border=\"1\" class=\"dataframe\">\n",
       "  <thead>\n",
       "    <tr style=\"text-align: right;\">\n",
       "      <th></th>\n",
       "      <th>name</th>\n",
       "      <th>location</th>\n",
       "      <th>valuation</th>\n",
       "      <th>date</th>\n",
       "      <th>round_A</th>\n",
       "    </tr>\n",
       "  </thead>\n",
       "  <tbody>\n",
       "    <tr>\n",
       "      <td>0</td>\n",
       "      <td>Ajar</td>\n",
       "      <td>Kuwait City</td>\n",
       "      <td>$30m - $45m</td>\n",
       "      <td>Jun 2020</td>\n",
       "      <td>7.500000</td>\n",
       "    </tr>\n",
       "    <tr>\n",
       "      <td>1</td>\n",
       "      <td>LingoAce</td>\n",
       "      <td>Singapore</td>\n",
       "      <td>$28m - $42m</td>\n",
       "      <td>Jun 2020</td>\n",
       "      <td>7000000</td>\n",
       "    </tr>\n",
       "    <tr>\n",
       "      <td>2</td>\n",
       "      <td>Hubble HQ</td>\n",
       "      <td>London</td>\n",
       "      <td>$14m - $22m</td>\n",
       "      <td>Jun 2020</td>\n",
       "      <td>3.600000</td>\n",
       "    </tr>\n",
       "    <tr>\n",
       "      <td>6</td>\n",
       "      <td>Northspyre</td>\n",
       "      <td>New York</td>\n",
       "      <td>$30m - $45m</td>\n",
       "      <td>May 2020</td>\n",
       "      <td>7.500000</td>\n",
       "    </tr>\n",
       "    <tr>\n",
       "      <td>7</td>\n",
       "      <td>Briq</td>\n",
       "      <td>Santa Barbara</td>\n",
       "      <td>$40m - $60m</td>\n",
       "      <td>May 2020</td>\n",
       "      <td>10000000</td>\n",
       "    </tr>\n",
       "    <tr>\n",
       "      <td>8</td>\n",
       "      <td>StructionSite</td>\n",
       "      <td>San Francisco</td>\n",
       "      <td>$28m - $42m</td>\n",
       "      <td>May 2020</td>\n",
       "      <td>7000000</td>\n",
       "    </tr>\n",
       "    <tr>\n",
       "      <td>9</td>\n",
       "      <td>IntelliBoard</td>\n",
       "      <td>Monroe</td>\n",
       "      <td>$14m - $20m</td>\n",
       "      <td>May 2020</td>\n",
       "      <td>3.400000</td>\n",
       "    </tr>\n",
       "    <tr>\n",
       "      <td>10</td>\n",
       "      <td>Locatee</td>\n",
       "      <td>Zurich</td>\n",
       "      <td>$16m - $24m</td>\n",
       "      <td>May 2020</td>\n",
       "      <td>4000000</td>\n",
       "    </tr>\n",
       "    <tr>\n",
       "      <td>11</td>\n",
       "      <td>Different</td>\n",
       "      <td>Darlinghurst</td>\n",
       "      <td>$28m - $43m</td>\n",
       "      <td>May 2020</td>\n",
       "      <td>7.100000</td>\n",
       "    </tr>\n",
       "    <tr>\n",
       "      <td>13</td>\n",
       "      <td>BibliU</td>\n",
       "      <td>London</td>\n",
       "      <td>$40m - $60m</td>\n",
       "      <td>Apr 2020</td>\n",
       "      <td>10000000</td>\n",
       "    </tr>\n",
       "    <tr>\n",
       "      <td>15</td>\n",
       "      <td>Frame AI</td>\n",
       "      <td>New York</td>\n",
       "      <td>$25m - $38m</td>\n",
       "      <td>Apr 2020</td>\n",
       "      <td>6.300000</td>\n",
       "    </tr>\n",
       "    <tr>\n",
       "      <td>16</td>\n",
       "      <td>Archistar</td>\n",
       "      <td>Sydney</td>\n",
       "      <td>$24m - $36m</td>\n",
       "      <td>Apr 2020</td>\n",
       "      <td>6000000</td>\n",
       "    </tr>\n",
       "    <tr>\n",
       "      <td>18</td>\n",
       "      <td>IFM Restoration</td>\n",
       "      <td>Dallas</td>\n",
       "      <td>$40m - $60m</td>\n",
       "      <td>Apr 2020</td>\n",
       "      <td>1000000 SERIES ANot included in VC statistics....</td>\n",
       "    </tr>\n",
       "    <tr>\n",
       "      <td>19</td>\n",
       "      <td>Arturo</td>\n",
       "      <td>Chicago</td>\n",
       "      <td>$32m - $48m</td>\n",
       "      <td>Apr 2020</td>\n",
       "      <td>8000000</td>\n",
       "    </tr>\n",
       "    <tr>\n",
       "      <td>22</td>\n",
       "      <td>Pulse Q&amp;A</td>\n",
       "      <td>San Francisco</td>\n",
       "      <td>$26m - $39m</td>\n",
       "      <td>Apr 2020</td>\n",
       "      <td>6.500000</td>\n",
       "    </tr>\n",
       "    <tr>\n",
       "      <td>24</td>\n",
       "      <td>Transactly</td>\n",
       "      <td>Saint Charles</td>\n",
       "      <td>$12m - $18m</td>\n",
       "      <td>Mar 2020</td>\n",
       "      <td>3000000</td>\n",
       "    </tr>\n",
       "  </tbody>\n",
       "</table>\n",
       "</div>"
      ],
      "text/plain": [
       "               name       location    valuation      date  \\\n",
       "0              Ajar    Kuwait City  $30m - $45m  Jun 2020   \n",
       "1          LingoAce      Singapore  $28m - $42m  Jun 2020   \n",
       "2         Hubble HQ         London  $14m - $22m  Jun 2020   \n",
       "6        Northspyre       New York  $30m - $45m  May 2020   \n",
       "7              Briq  Santa Barbara  $40m - $60m  May 2020   \n",
       "8     StructionSite  San Francisco  $28m - $42m  May 2020   \n",
       "9      IntelliBoard         Monroe  $14m - $20m  May 2020   \n",
       "10          Locatee         Zurich  $16m - $24m  May 2020   \n",
       "11        Different   Darlinghurst  $28m - $43m  May 2020   \n",
       "13           BibliU         London  $40m - $60m  Apr 2020   \n",
       "15         Frame AI       New York  $25m - $38m  Apr 2020   \n",
       "16        Archistar         Sydney  $24m - $36m  Apr 2020   \n",
       "18  IFM Restoration         Dallas  $40m - $60m  Apr 2020   \n",
       "19           Arturo        Chicago  $32m - $48m  Apr 2020   \n",
       "22        Pulse Q&A  San Francisco  $26m - $39m  Apr 2020   \n",
       "24       Transactly  Saint Charles  $12m - $18m  Mar 2020   \n",
       "\n",
       "                                              round_A  \n",
       "0                                            7.500000  \n",
       "1                                             7000000  \n",
       "2                                            3.600000  \n",
       "6                                            7.500000  \n",
       "7                                            10000000  \n",
       "8                                             7000000  \n",
       "9                                            3.400000  \n",
       "10                                            4000000  \n",
       "11                                           7.100000  \n",
       "13                                           10000000  \n",
       "15                                           6.300000  \n",
       "16                                            6000000  \n",
       "18  1000000 SERIES ANot included in VC statistics....  \n",
       "19                                            8000000  \n",
       "22                                           6.500000  \n",
       "24                                            3000000  "
      ]
     },
     "execution_count": 506,
     "metadata": {},
     "output_type": "execute_result"
    }
   ],
   "source": [
    "df = df.drop(np.where(df['round_A'] == 'вал_непр')[0])\n",
    "df"
   ]
  },
  {
   "cell_type": "code",
   "execution_count": 512,
   "metadata": {},
   "outputs": [
    {
     "name": "stdout",
     "output_type": "stream",
     "text": [
      "16\n"
     ]
    },
    {
     "data": {
      "text/html": [
       "<div>\n",
       "<style scoped>\n",
       "    .dataframe tbody tr th:only-of-type {\n",
       "        vertical-align: middle;\n",
       "    }\n",
       "\n",
       "    .dataframe tbody tr th {\n",
       "        vertical-align: top;\n",
       "    }\n",
       "\n",
       "    .dataframe thead th {\n",
       "        text-align: right;\n",
       "    }\n",
       "</style>\n",
       "<table border=\"1\" class=\"dataframe\">\n",
       "  <thead>\n",
       "    <tr style=\"text-align: right;\">\n",
       "      <th></th>\n",
       "      <th>name</th>\n",
       "      <th>location</th>\n",
       "      <th>valuation</th>\n",
       "      <th>date</th>\n",
       "      <th>round_A</th>\n",
       "    </tr>\n",
       "  </thead>\n",
       "  <tbody>\n",
       "    <tr>\n",
       "      <td>0</td>\n",
       "      <td>Ajar</td>\n",
       "      <td>Kuwait City</td>\n",
       "      <td>$30m - $45m</td>\n",
       "      <td>Jun 2020</td>\n",
       "      <td>7.500000</td>\n",
       "    </tr>\n",
       "    <tr>\n",
       "      <td>1</td>\n",
       "      <td>LingoAce</td>\n",
       "      <td>Singapore</td>\n",
       "      <td>$28m - $42m</td>\n",
       "      <td>Jun 2020</td>\n",
       "      <td>7000000</td>\n",
       "    </tr>\n",
       "    <tr>\n",
       "      <td>2</td>\n",
       "      <td>Hubble HQ</td>\n",
       "      <td>London</td>\n",
       "      <td>$14m - $22m</td>\n",
       "      <td>Jun 2020</td>\n",
       "      <td>3.600000</td>\n",
       "    </tr>\n",
       "    <tr>\n",
       "      <td>6</td>\n",
       "      <td>Northspyre</td>\n",
       "      <td>New York</td>\n",
       "      <td>$30m - $45m</td>\n",
       "      <td>May 2020</td>\n",
       "      <td>7.500000</td>\n",
       "    </tr>\n",
       "    <tr>\n",
       "      <td>7</td>\n",
       "      <td>Briq</td>\n",
       "      <td>Santa Barbara</td>\n",
       "      <td>$40m - $60m</td>\n",
       "      <td>May 2020</td>\n",
       "      <td>10000000</td>\n",
       "    </tr>\n",
       "    <tr>\n",
       "      <td>8</td>\n",
       "      <td>StructionSite</td>\n",
       "      <td>San Francisco</td>\n",
       "      <td>$28m - $42m</td>\n",
       "      <td>May 2020</td>\n",
       "      <td>7000000</td>\n",
       "    </tr>\n",
       "    <tr>\n",
       "      <td>9</td>\n",
       "      <td>IntelliBoard</td>\n",
       "      <td>Monroe</td>\n",
       "      <td>$14m - $20m</td>\n",
       "      <td>May 2020</td>\n",
       "      <td>3.400000</td>\n",
       "    </tr>\n",
       "    <tr>\n",
       "      <td>10</td>\n",
       "      <td>Locatee</td>\n",
       "      <td>Zurich</td>\n",
       "      <td>$16m - $24m</td>\n",
       "      <td>May 2020</td>\n",
       "      <td>4000000</td>\n",
       "    </tr>\n",
       "    <tr>\n",
       "      <td>11</td>\n",
       "      <td>Different</td>\n",
       "      <td>Darlinghurst</td>\n",
       "      <td>$28m - $43m</td>\n",
       "      <td>May 2020</td>\n",
       "      <td>7.100000</td>\n",
       "    </tr>\n",
       "    <tr>\n",
       "      <td>13</td>\n",
       "      <td>BibliU</td>\n",
       "      <td>London</td>\n",
       "      <td>$40m - $60m</td>\n",
       "      <td>Apr 2020</td>\n",
       "      <td>10000000</td>\n",
       "    </tr>\n",
       "    <tr>\n",
       "      <td>15</td>\n",
       "      <td>Frame AI</td>\n",
       "      <td>New York</td>\n",
       "      <td>$25m - $38m</td>\n",
       "      <td>Apr 2020</td>\n",
       "      <td>6.300000</td>\n",
       "    </tr>\n",
       "    <tr>\n",
       "      <td>16</td>\n",
       "      <td>Archistar</td>\n",
       "      <td>Sydney</td>\n",
       "      <td>$24m - $36m</td>\n",
       "      <td>Apr 2020</td>\n",
       "      <td>6000000</td>\n",
       "    </tr>\n",
       "    <tr>\n",
       "      <td>18</td>\n",
       "      <td>IFM Restoration</td>\n",
       "      <td>Dallas</td>\n",
       "      <td>$40m - $60m</td>\n",
       "      <td>Apr 2020</td>\n",
       "      <td>1000000 SERIES ANot included in VC statistics....</td>\n",
       "    </tr>\n",
       "    <tr>\n",
       "      <td>19</td>\n",
       "      <td>Arturo</td>\n",
       "      <td>Chicago</td>\n",
       "      <td>$32m - $48m</td>\n",
       "      <td>Apr 2020</td>\n",
       "      <td>8000000</td>\n",
       "    </tr>\n",
       "    <tr>\n",
       "      <td>22</td>\n",
       "      <td>Pulse Q&amp;A</td>\n",
       "      <td>San Francisco</td>\n",
       "      <td>$26m - $39m</td>\n",
       "      <td>Apr 2020</td>\n",
       "      <td>6.500000</td>\n",
       "    </tr>\n",
       "    <tr>\n",
       "      <td>24</td>\n",
       "      <td>Transactly</td>\n",
       "      <td>Saint Charles</td>\n",
       "      <td>$12m - $18m</td>\n",
       "      <td>Mar 2020</td>\n",
       "      <td>3000000</td>\n",
       "    </tr>\n",
       "  </tbody>\n",
       "</table>\n",
       "</div>"
      ],
      "text/plain": [
       "               name       location    valuation      date  \\\n",
       "0              Ajar    Kuwait City  $30m - $45m  Jun 2020   \n",
       "1          LingoAce      Singapore  $28m - $42m  Jun 2020   \n",
       "2         Hubble HQ         London  $14m - $22m  Jun 2020   \n",
       "6        Northspyre       New York  $30m - $45m  May 2020   \n",
       "7              Briq  Santa Barbara  $40m - $60m  May 2020   \n",
       "8     StructionSite  San Francisco  $28m - $42m  May 2020   \n",
       "9      IntelliBoard         Monroe  $14m - $20m  May 2020   \n",
       "10          Locatee         Zurich  $16m - $24m  May 2020   \n",
       "11        Different   Darlinghurst  $28m - $43m  May 2020   \n",
       "13           BibliU         London  $40m - $60m  Apr 2020   \n",
       "15         Frame AI       New York  $25m - $38m  Apr 2020   \n",
       "16        Archistar         Sydney  $24m - $36m  Apr 2020   \n",
       "18  IFM Restoration         Dallas  $40m - $60m  Apr 2020   \n",
       "19           Arturo        Chicago  $32m - $48m  Apr 2020   \n",
       "22        Pulse Q&A  San Francisco  $26m - $39m  Apr 2020   \n",
       "24       Transactly  Saint Charles  $12m - $18m  Mar 2020   \n",
       "\n",
       "                                              round_A  \n",
       "0                                            7.500000  \n",
       "1                                             7000000  \n",
       "2                                            3.600000  \n",
       "6                                            7.500000  \n",
       "7                                            10000000  \n",
       "8                                             7000000  \n",
       "9                                            3.400000  \n",
       "10                                            4000000  \n",
       "11                                           7.100000  \n",
       "13                                           10000000  \n",
       "15                                           6.300000  \n",
       "16                                            6000000  \n",
       "18  1000000 SERIES ANot included in VC statistics....  \n",
       "19                                            8000000  \n",
       "22                                           6.500000  \n",
       "24                                            3000000  "
      ]
     },
     "execution_count": 512,
     "metadata": {},
     "output_type": "execute_result"
    }
   ],
   "source": [
    "#удаляем \"нет данных\" по раунду\n",
    "df = df.drop(np.where(df['round_A'] == 'N/')[0])\n",
    "print(len(df))\n",
    "df"
   ]
  },
  {
   "cell_type": "code",
   "execution_count": 530,
   "metadata": {},
   "outputs": [
    {
     "data": {
      "text/html": [
       "<div>\n",
       "<style scoped>\n",
       "    .dataframe tbody tr th:only-of-type {\n",
       "        vertical-align: middle;\n",
       "    }\n",
       "\n",
       "    .dataframe tbody tr th {\n",
       "        vertical-align: top;\n",
       "    }\n",
       "\n",
       "    .dataframe thead th {\n",
       "        text-align: right;\n",
       "    }\n",
       "</style>\n",
       "<table border=\"1\" class=\"dataframe\">\n",
       "  <thead>\n",
       "    <tr style=\"text-align: right;\">\n",
       "      <th></th>\n",
       "      <th>Company</th>\n",
       "      <th>Industry</th>\n",
       "      <th>Valuation</th>\n",
       "      <th>Round_A</th>\n",
       "    </tr>\n",
       "  </thead>\n",
       "  <tbody>\n",
       "    <tr>\n",
       "      <td>0</td>\n",
       "      <td>Prilenia Therapeutics</td>\n",
       "      <td>MedTech</td>\n",
       "      <td>250 000 000 -375 000 000</td>\n",
       "      <td>62500000.0</td>\n",
       "    </tr>\n",
       "    <tr>\n",
       "      <td>1</td>\n",
       "      <td>Monte Rosa Therapeutics</td>\n",
       "      <td>MedTech</td>\n",
       "      <td>130 000 000 -195 000 000</td>\n",
       "      <td>32500000.0</td>\n",
       "    </tr>\n",
       "    <tr>\n",
       "      <td>2</td>\n",
       "      <td>Accure Therapeutics</td>\n",
       "      <td>MedTech</td>\n",
       "      <td>30 000 000 - 46 000 000</td>\n",
       "      <td>7600000.0</td>\n",
       "    </tr>\n",
       "    <tr>\n",
       "      <td>3</td>\n",
       "      <td>Day One Biopharma</td>\n",
       "      <td>MedTech</td>\n",
       "      <td>240 000 000 - 360 000 000</td>\n",
       "      <td>60000000.0</td>\n",
       "    </tr>\n",
       "    <tr>\n",
       "      <td>4</td>\n",
       "      <td>Good Therapeutics</td>\n",
       "      <td>MedTech</td>\n",
       "      <td>44 000 000 - 66 000 000</td>\n",
       "      <td>11000000.0</td>\n",
       "    </tr>\n",
       "    <tr>\n",
       "      <td>...</td>\n",
       "      <td>...</td>\n",
       "      <td>...</td>\n",
       "      <td>...</td>\n",
       "      <td>...</td>\n",
       "    </tr>\n",
       "    <tr>\n",
       "      <td>203</td>\n",
       "      <td>17zuoye</td>\n",
       "      <td>EdTech</td>\n",
       "      <td>1 000 000 000</td>\n",
       "      <td>5000000.0</td>\n",
       "    </tr>\n",
       "    <tr>\n",
       "      <td>204</td>\n",
       "      <td>Smart Sparrow</td>\n",
       "      <td>EdTech</td>\n",
       "      <td>30 000 000 - 45 000 000</td>\n",
       "      <td>2000000.0</td>\n",
       "    </tr>\n",
       "    <tr>\n",
       "      <td>205</td>\n",
       "      <td>Everfi</td>\n",
       "      <td>EdTech</td>\n",
       "      <td>800 000 000</td>\n",
       "      <td>11000000.0</td>\n",
       "    </tr>\n",
       "    <tr>\n",
       "      <td>206</td>\n",
       "      <td>Sofatutor</td>\n",
       "      <td>EdTech</td>\n",
       "      <td>12 000 000 -18 000 000</td>\n",
       "      <td>NaN</td>\n",
       "    </tr>\n",
       "    <tr>\n",
       "      <td>207</td>\n",
       "      <td>EduFire</td>\n",
       "      <td>EdTech</td>\n",
       "      <td>5 000 000 - 8 000 000</td>\n",
       "      <td>1300000.0</td>\n",
       "    </tr>\n",
       "  </tbody>\n",
       "</table>\n",
       "<p>208 rows × 4 columns</p>\n",
       "</div>"
      ],
      "text/plain": [
       "                     Company Industry                  Valuation     Round_A\n",
       "0      Prilenia Therapeutics  MedTech   250 000 000 -375 000 000  62500000.0\n",
       "1    Monte Rosa Therapeutics  MedTech   130 000 000 -195 000 000  32500000.0\n",
       "2        Accure Therapeutics  MedTech    30 000 000 - 46 000 000   7600000.0\n",
       "3          Day One Biopharma  MedTech  240 000 000 - 360 000 000  60000000.0\n",
       "4          Good Therapeutics  MedTech    44 000 000 - 66 000 000  11000000.0\n",
       "..                       ...      ...                        ...         ...\n",
       "203                  17zuoye   EdTech              1 000 000 000   5000000.0\n",
       "204            Smart Sparrow   EdTech    30 000 000 - 45 000 000   2000000.0\n",
       "205                   Everfi   EdTech                800 000 000  11000000.0\n",
       "206                Sofatutor   EdTech     12 000 000 -18 000 000         NaN\n",
       "207                  EduFire   EdTech      5 000 000 - 8 000 000   1300000.0\n",
       "\n",
       "[208 rows x 4 columns]"
      ]
     },
     "execution_count": 530,
     "metadata": {},
     "output_type": "execute_result"
    }
   ],
   "source": [
    "# тут я понял, что спарсить этот сайт не получится, поэтому собрал данные вручну.\n",
    "#импортируруем эксель файлы, чтобы сделать из них датафреймы\n",
    "#вот ссылка на собранный датасет\n",
    "# https://yadi.sk/d/oD8U_mKQWLIu-g\n",
    "\n",
    "df_vc = pd.read_csv('C:\\\\Users\\\\svzab\\\\OneDrive\\\\Desktop\\\\VC_rec.csv',sep = ';')\n",
    "df_vc"
   ]
  },
  {
   "cell_type": "code",
   "execution_count": 531,
   "metadata": {},
   "outputs": [
    {
     "data": {
      "text/plain": [
       "Company       object\n",
       "Industry      object\n",
       "Valuation     object\n",
       "Round_A      float64\n",
       "dtype: object"
      ]
     },
     "execution_count": 531,
     "metadata": {},
     "output_type": "execute_result"
    }
   ],
   "source": [
    "df_vc.dtypes"
   ]
  },
  {
   "cell_type": "code",
   "execution_count": 532,
   "metadata": {},
   "outputs": [
    {
     "data": {
      "text/html": [
       "<div>\n",
       "<style scoped>\n",
       "    .dataframe tbody tr th:only-of-type {\n",
       "        vertical-align: middle;\n",
       "    }\n",
       "\n",
       "    .dataframe tbody tr th {\n",
       "        vertical-align: top;\n",
       "    }\n",
       "\n",
       "    .dataframe thead th {\n",
       "        text-align: right;\n",
       "    }\n",
       "</style>\n",
       "<table border=\"1\" class=\"dataframe\">\n",
       "  <thead>\n",
       "    <tr style=\"text-align: right;\">\n",
       "      <th></th>\n",
       "      <th>Company</th>\n",
       "      <th>Industry</th>\n",
       "      <th>Valuation</th>\n",
       "      <th>Round_A</th>\n",
       "    </tr>\n",
       "  </thead>\n",
       "  <tbody>\n",
       "    <tr>\n",
       "      <td>0</td>\n",
       "      <td>Prilenia Therapeutics</td>\n",
       "      <td>MedTech</td>\n",
       "      <td>250 000 000 -375 000 000</td>\n",
       "      <td>62500000.0</td>\n",
       "    </tr>\n",
       "    <tr>\n",
       "      <td>1</td>\n",
       "      <td>Monte Rosa Therapeutics</td>\n",
       "      <td>MedTech</td>\n",
       "      <td>130 000 000 -195 000 000</td>\n",
       "      <td>32500000.0</td>\n",
       "    </tr>\n",
       "    <tr>\n",
       "      <td>2</td>\n",
       "      <td>Accure Therapeutics</td>\n",
       "      <td>MedTech</td>\n",
       "      <td>30 000 000 - 46 000 000</td>\n",
       "      <td>7600000.0</td>\n",
       "    </tr>\n",
       "    <tr>\n",
       "      <td>3</td>\n",
       "      <td>Day One Biopharma</td>\n",
       "      <td>MedTech</td>\n",
       "      <td>240 000 000 - 360 000 000</td>\n",
       "      <td>60000000.0</td>\n",
       "    </tr>\n",
       "    <tr>\n",
       "      <td>4</td>\n",
       "      <td>Good Therapeutics</td>\n",
       "      <td>MedTech</td>\n",
       "      <td>44 000 000 - 66 000 000</td>\n",
       "      <td>11000000.0</td>\n",
       "    </tr>\n",
       "    <tr>\n",
       "      <td>...</td>\n",
       "      <td>...</td>\n",
       "      <td>...</td>\n",
       "      <td>...</td>\n",
       "      <td>...</td>\n",
       "    </tr>\n",
       "    <tr>\n",
       "      <td>202</td>\n",
       "      <td>Vodeclic</td>\n",
       "      <td>EdTech</td>\n",
       "      <td>2 000 000 - 3 000 000</td>\n",
       "      <td>500000.0</td>\n",
       "    </tr>\n",
       "    <tr>\n",
       "      <td>203</td>\n",
       "      <td>17zuoye</td>\n",
       "      <td>EdTech</td>\n",
       "      <td>1 000 000 000</td>\n",
       "      <td>5000000.0</td>\n",
       "    </tr>\n",
       "    <tr>\n",
       "      <td>204</td>\n",
       "      <td>Smart Sparrow</td>\n",
       "      <td>EdTech</td>\n",
       "      <td>30 000 000 - 45 000 000</td>\n",
       "      <td>2000000.0</td>\n",
       "    </tr>\n",
       "    <tr>\n",
       "      <td>205</td>\n",
       "      <td>Everfi</td>\n",
       "      <td>EdTech</td>\n",
       "      <td>800 000 000</td>\n",
       "      <td>11000000.0</td>\n",
       "    </tr>\n",
       "    <tr>\n",
       "      <td>207</td>\n",
       "      <td>EduFire</td>\n",
       "      <td>EdTech</td>\n",
       "      <td>5 000 000 - 8 000 000</td>\n",
       "      <td>1300000.0</td>\n",
       "    </tr>\n",
       "  </tbody>\n",
       "</table>\n",
       "<p>188 rows × 4 columns</p>\n",
       "</div>"
      ],
      "text/plain": [
       "                     Company Industry                  Valuation     Round_A\n",
       "0      Prilenia Therapeutics  MedTech   250 000 000 -375 000 000  62500000.0\n",
       "1    Monte Rosa Therapeutics  MedTech   130 000 000 -195 000 000  32500000.0\n",
       "2        Accure Therapeutics  MedTech    30 000 000 - 46 000 000   7600000.0\n",
       "3          Day One Biopharma  MedTech  240 000 000 - 360 000 000  60000000.0\n",
       "4          Good Therapeutics  MedTech    44 000 000 - 66 000 000  11000000.0\n",
       "..                       ...      ...                        ...         ...\n",
       "202                 Vodeclic   EdTech      2 000 000 - 3 000 000    500000.0\n",
       "203                  17zuoye   EdTech              1 000 000 000   5000000.0\n",
       "204            Smart Sparrow   EdTech    30 000 000 - 45 000 000   2000000.0\n",
       "205                   Everfi   EdTech                800 000 000  11000000.0\n",
       "207                  EduFire   EdTech      5 000 000 - 8 000 000   1300000.0\n",
       "\n",
       "[188 rows x 4 columns]"
      ]
     },
     "execution_count": 532,
     "metadata": {},
     "output_type": "execute_result"
    }
   ],
   "source": [
    "#удаляем пропуски\n",
    "df_vc = df_vc.dropna()\n",
    "df_vc"
   ]
  },
  {
   "cell_type": "code",
   "execution_count": 534,
   "metadata": {},
   "outputs": [
    {
     "data": {
      "text/html": [
       "<div>\n",
       "<style scoped>\n",
       "    .dataframe tbody tr th:only-of-type {\n",
       "        vertical-align: middle;\n",
       "    }\n",
       "\n",
       "    .dataframe tbody tr th {\n",
       "        vertical-align: top;\n",
       "    }\n",
       "\n",
       "    .dataframe thead th {\n",
       "        text-align: right;\n",
       "    }\n",
       "</style>\n",
       "<table border=\"1\" class=\"dataframe\">\n",
       "  <thead>\n",
       "    <tr style=\"text-align: right;\">\n",
       "      <th></th>\n",
       "      <th>Company</th>\n",
       "      <th>Industry</th>\n",
       "      <th>Valuation</th>\n",
       "      <th>Round_A</th>\n",
       "    </tr>\n",
       "  </thead>\n",
       "  <tbody>\n",
       "    <tr>\n",
       "      <td>0</td>\n",
       "      <td>Prilenia Therapeutics</td>\n",
       "      <td>MedTech</td>\n",
       "      <td>250 000 000 -375 000 000</td>\n",
       "      <td>62500000</td>\n",
       "    </tr>\n",
       "    <tr>\n",
       "      <td>1</td>\n",
       "      <td>Monte Rosa Therapeutics</td>\n",
       "      <td>MedTech</td>\n",
       "      <td>130 000 000 -195 000 000</td>\n",
       "      <td>32500000</td>\n",
       "    </tr>\n",
       "    <tr>\n",
       "      <td>2</td>\n",
       "      <td>Accure Therapeutics</td>\n",
       "      <td>MedTech</td>\n",
       "      <td>30 000 000 - 46 000 000</td>\n",
       "      <td>7600000</td>\n",
       "    </tr>\n",
       "    <tr>\n",
       "      <td>3</td>\n",
       "      <td>Day One Biopharma</td>\n",
       "      <td>MedTech</td>\n",
       "      <td>240 000 000 - 360 000 000</td>\n",
       "      <td>60000000</td>\n",
       "    </tr>\n",
       "    <tr>\n",
       "      <td>4</td>\n",
       "      <td>Good Therapeutics</td>\n",
       "      <td>MedTech</td>\n",
       "      <td>44 000 000 - 66 000 000</td>\n",
       "      <td>11000000</td>\n",
       "    </tr>\n",
       "    <tr>\n",
       "      <td>...</td>\n",
       "      <td>...</td>\n",
       "      <td>...</td>\n",
       "      <td>...</td>\n",
       "      <td>...</td>\n",
       "    </tr>\n",
       "    <tr>\n",
       "      <td>202</td>\n",
       "      <td>Vodeclic</td>\n",
       "      <td>EdTech</td>\n",
       "      <td>2 000 000 - 3 000 000</td>\n",
       "      <td>500000</td>\n",
       "    </tr>\n",
       "    <tr>\n",
       "      <td>203</td>\n",
       "      <td>17zuoye</td>\n",
       "      <td>EdTech</td>\n",
       "      <td>1 000 000 000</td>\n",
       "      <td>5000000</td>\n",
       "    </tr>\n",
       "    <tr>\n",
       "      <td>204</td>\n",
       "      <td>Smart Sparrow</td>\n",
       "      <td>EdTech</td>\n",
       "      <td>30 000 000 - 45 000 000</td>\n",
       "      <td>2000000</td>\n",
       "    </tr>\n",
       "    <tr>\n",
       "      <td>205</td>\n",
       "      <td>Everfi</td>\n",
       "      <td>EdTech</td>\n",
       "      <td>800 000 000</td>\n",
       "      <td>11000000</td>\n",
       "    </tr>\n",
       "    <tr>\n",
       "      <td>207</td>\n",
       "      <td>EduFire</td>\n",
       "      <td>EdTech</td>\n",
       "      <td>5 000 000 - 8 000 000</td>\n",
       "      <td>1300000</td>\n",
       "    </tr>\n",
       "  </tbody>\n",
       "</table>\n",
       "<p>188 rows × 4 columns</p>\n",
       "</div>"
      ],
      "text/plain": [
       "                     Company Industry                  Valuation   Round_A\n",
       "0      Prilenia Therapeutics  MedTech   250 000 000 -375 000 000  62500000\n",
       "1    Monte Rosa Therapeutics  MedTech   130 000 000 -195 000 000  32500000\n",
       "2        Accure Therapeutics  MedTech    30 000 000 - 46 000 000   7600000\n",
       "3          Day One Biopharma  MedTech  240 000 000 - 360 000 000  60000000\n",
       "4          Good Therapeutics  MedTech    44 000 000 - 66 000 000  11000000\n",
       "..                       ...      ...                        ...       ...\n",
       "202                 Vodeclic   EdTech      2 000 000 - 3 000 000    500000\n",
       "203                  17zuoye   EdTech              1 000 000 000   5000000\n",
       "204            Smart Sparrow   EdTech    30 000 000 - 45 000 000   2000000\n",
       "205                   Everfi   EdTech                800 000 000  11000000\n",
       "207                  EduFire   EdTech      5 000 000 - 8 000 000   1300000\n",
       "\n",
       "[188 rows x 4 columns]"
      ]
     },
     "execution_count": 534,
     "metadata": {},
     "output_type": "execute_result"
    }
   ],
   "source": [
    "#для удобства переделываем в int\n",
    "#чтобы он сработал надо запустить 2!!!! раза\n",
    "df_vc.Round_A = df_vc.Round_A.astype('int64')\n",
    "df_vc"
   ]
  },
  {
   "cell_type": "code",
   "execution_count": 535,
   "metadata": {},
   "outputs": [
    {
     "name": "stderr",
     "output_type": "stream",
     "text": [
      "C:\\Users\\svzab\\Anaconda3\\lib\\site-packages\\ipykernel_launcher.py:3: SettingWithCopyWarning: \n",
      "A value is trying to be set on a copy of a slice from a DataFrame.\n",
      "Try using .loc[row_indexer,col_indexer] = value instead\n",
      "\n",
      "See the caveats in the documentation: http://pandas.pydata.org/pandas-docs/stable/user_guide/indexing.html#returning-a-view-versus-a-copy\n",
      "  This is separate from the ipykernel package so we can avoid doing imports until\n"
     ]
    },
    {
     "data": {
      "text/html": [
       "<div>\n",
       "<style scoped>\n",
       "    .dataframe tbody tr th:only-of-type {\n",
       "        vertical-align: middle;\n",
       "    }\n",
       "\n",
       "    .dataframe tbody tr th {\n",
       "        vertical-align: top;\n",
       "    }\n",
       "\n",
       "    .dataframe thead th {\n",
       "        text-align: right;\n",
       "    }\n",
       "</style>\n",
       "<table border=\"1\" class=\"dataframe\">\n",
       "  <thead>\n",
       "    <tr style=\"text-align: right;\">\n",
       "      <th></th>\n",
       "      <th>Company</th>\n",
       "      <th>Industry</th>\n",
       "      <th>Valuation</th>\n",
       "      <th>Round_A</th>\n",
       "      <th>Round_A_mln</th>\n",
       "    </tr>\n",
       "  </thead>\n",
       "  <tbody>\n",
       "    <tr>\n",
       "      <td>0</td>\n",
       "      <td>Prilenia Therapeutics</td>\n",
       "      <td>MedTech</td>\n",
       "      <td>250 000 000 -375 000 000</td>\n",
       "      <td>62500000</td>\n",
       "      <td>62.5</td>\n",
       "    </tr>\n",
       "    <tr>\n",
       "      <td>1</td>\n",
       "      <td>Monte Rosa Therapeutics</td>\n",
       "      <td>MedTech</td>\n",
       "      <td>130 000 000 -195 000 000</td>\n",
       "      <td>32500000</td>\n",
       "      <td>32.5</td>\n",
       "    </tr>\n",
       "    <tr>\n",
       "      <td>2</td>\n",
       "      <td>Accure Therapeutics</td>\n",
       "      <td>MedTech</td>\n",
       "      <td>30 000 000 - 46 000 000</td>\n",
       "      <td>7600000</td>\n",
       "      <td>7.6</td>\n",
       "    </tr>\n",
       "    <tr>\n",
       "      <td>3</td>\n",
       "      <td>Day One Biopharma</td>\n",
       "      <td>MedTech</td>\n",
       "      <td>240 000 000 - 360 000 000</td>\n",
       "      <td>60000000</td>\n",
       "      <td>60.0</td>\n",
       "    </tr>\n",
       "    <tr>\n",
       "      <td>4</td>\n",
       "      <td>Good Therapeutics</td>\n",
       "      <td>MedTech</td>\n",
       "      <td>44 000 000 - 66 000 000</td>\n",
       "      <td>11000000</td>\n",
       "      <td>11.0</td>\n",
       "    </tr>\n",
       "    <tr>\n",
       "      <td>...</td>\n",
       "      <td>...</td>\n",
       "      <td>...</td>\n",
       "      <td>...</td>\n",
       "      <td>...</td>\n",
       "      <td>...</td>\n",
       "    </tr>\n",
       "    <tr>\n",
       "      <td>202</td>\n",
       "      <td>Vodeclic</td>\n",
       "      <td>EdTech</td>\n",
       "      <td>2 000 000 - 3 000 000</td>\n",
       "      <td>500000</td>\n",
       "      <td>0.5</td>\n",
       "    </tr>\n",
       "    <tr>\n",
       "      <td>203</td>\n",
       "      <td>17zuoye</td>\n",
       "      <td>EdTech</td>\n",
       "      <td>1 000 000 000</td>\n",
       "      <td>5000000</td>\n",
       "      <td>5.0</td>\n",
       "    </tr>\n",
       "    <tr>\n",
       "      <td>204</td>\n",
       "      <td>Smart Sparrow</td>\n",
       "      <td>EdTech</td>\n",
       "      <td>30 000 000 - 45 000 000</td>\n",
       "      <td>2000000</td>\n",
       "      <td>2.0</td>\n",
       "    </tr>\n",
       "    <tr>\n",
       "      <td>205</td>\n",
       "      <td>Everfi</td>\n",
       "      <td>EdTech</td>\n",
       "      <td>800 000 000</td>\n",
       "      <td>11000000</td>\n",
       "      <td>11.0</td>\n",
       "    </tr>\n",
       "    <tr>\n",
       "      <td>207</td>\n",
       "      <td>EduFire</td>\n",
       "      <td>EdTech</td>\n",
       "      <td>5 000 000 - 8 000 000</td>\n",
       "      <td>1300000</td>\n",
       "      <td>1.3</td>\n",
       "    </tr>\n",
       "  </tbody>\n",
       "</table>\n",
       "<p>188 rows × 5 columns</p>\n",
       "</div>"
      ],
      "text/plain": [
       "                     Company Industry                  Valuation   Round_A  \\\n",
       "0      Prilenia Therapeutics  MedTech   250 000 000 -375 000 000  62500000   \n",
       "1    Monte Rosa Therapeutics  MedTech   130 000 000 -195 000 000  32500000   \n",
       "2        Accure Therapeutics  MedTech    30 000 000 - 46 000 000   7600000   \n",
       "3          Day One Biopharma  MedTech  240 000 000 - 360 000 000  60000000   \n",
       "4          Good Therapeutics  MedTech    44 000 000 - 66 000 000  11000000   \n",
       "..                       ...      ...                        ...       ...   \n",
       "202                 Vodeclic   EdTech      2 000 000 - 3 000 000    500000   \n",
       "203                  17zuoye   EdTech              1 000 000 000   5000000   \n",
       "204            Smart Sparrow   EdTech    30 000 000 - 45 000 000   2000000   \n",
       "205                   Everfi   EdTech                800 000 000  11000000   \n",
       "207                  EduFire   EdTech      5 000 000 - 8 000 000   1300000   \n",
       "\n",
       "     Round_A_mln  \n",
       "0           62.5  \n",
       "1           32.5  \n",
       "2            7.6  \n",
       "3           60.0  \n",
       "4           11.0  \n",
       "..           ...  \n",
       "202          0.5  \n",
       "203          5.0  \n",
       "204          2.0  \n",
       "205         11.0  \n",
       "207          1.3  \n",
       "\n",
       "[188 rows x 5 columns]"
      ]
     },
     "execution_count": 535,
     "metadata": {},
     "output_type": "execute_result"
    }
   ],
   "source": [
    "#создаем новый столбец, тк с ним визуализировать удобнее\n",
    "#ошибка ни на что не влияет\n",
    "df_vc['Round_A_mln'] = df_vc['Round_A'] / 1000000\n",
    "df_vc"
   ]
  },
  {
   "cell_type": "code",
   "execution_count": 536,
   "metadata": {},
   "outputs": [],
   "source": [
    "#разделяем датафрейм на индустрии\n",
    "df_edtech = df_vc[df_vc['Industry']=='EdTech'].copy()\n",
    "df_medtech = df_vc[df_vc['Industry']=='MedTech'].copy()\n",
    "df_gaming = df_vc[df_vc['Industry']=='Gaming'].copy()"
   ]
  },
  {
   "cell_type": "code",
   "execution_count": 537,
   "metadata": {},
   "outputs": [
    {
     "name": "stdout",
     "output_type": "stream",
     "text": [
      "(65, 5)\n",
      "(53, 5)\n",
      "(70, 5)\n"
     ]
    }
   ],
   "source": [
    "# смотрим размер датафреймов\n",
    "print(df_edtech.shape)\n",
    "print(df_medtech.shape)\n",
    "print(df_gaming.shape)"
   ]
  },
  {
   "cell_type": "code",
   "execution_count": 538,
   "metadata": {},
   "outputs": [
    {
     "data": {
      "text/html": [
       "<div>\n",
       "<style scoped>\n",
       "    .dataframe tbody tr th:only-of-type {\n",
       "        vertical-align: middle;\n",
       "    }\n",
       "\n",
       "    .dataframe tbody tr th {\n",
       "        vertical-align: top;\n",
       "    }\n",
       "\n",
       "    .dataframe thead th {\n",
       "        text-align: right;\n",
       "    }\n",
       "</style>\n",
       "<table border=\"1\" class=\"dataframe\">\n",
       "  <thead>\n",
       "    <tr style=\"text-align: right;\">\n",
       "      <th></th>\n",
       "      <th>Company</th>\n",
       "      <th>Industry</th>\n",
       "      <th>Valuation</th>\n",
       "      <th>Round_A</th>\n",
       "      <th>Round_A_mln</th>\n",
       "    </tr>\n",
       "  </thead>\n",
       "  <tbody>\n",
       "    <tr>\n",
       "      <td>132</td>\n",
       "      <td>IntelliBoard</td>\n",
       "      <td>EdTech</td>\n",
       "      <td>14 000 000 - 20 000 000</td>\n",
       "      <td>3400000</td>\n",
       "      <td>3.4</td>\n",
       "    </tr>\n",
       "    <tr>\n",
       "      <td>133</td>\n",
       "      <td>BibliU</td>\n",
       "      <td>EdTech</td>\n",
       "      <td>40 000 000-60 000 000</td>\n",
       "      <td>10000000</td>\n",
       "      <td>10.0</td>\n",
       "    </tr>\n",
       "    <tr>\n",
       "      <td>134</td>\n",
       "      <td>Frame AI</td>\n",
       "      <td>EdTech</td>\n",
       "      <td>25 000 000- 38 000 000</td>\n",
       "      <td>6300000</td>\n",
       "      <td>6.3</td>\n",
       "    </tr>\n",
       "    <tr>\n",
       "      <td>135</td>\n",
       "      <td>Pulse Q&amp;A</td>\n",
       "      <td>EdTech</td>\n",
       "      <td>26 000 000- 39 000 000</td>\n",
       "      <td>6500000</td>\n",
       "      <td>6.5</td>\n",
       "    </tr>\n",
       "    <tr>\n",
       "      <td>136</td>\n",
       "      <td>Honorlock</td>\n",
       "      <td>EdTech</td>\n",
       "      <td>46 000 000 - 69 000 000</td>\n",
       "      <td>11500000</td>\n",
       "      <td>11.5</td>\n",
       "    </tr>\n",
       "    <tr>\n",
       "      <td>...</td>\n",
       "      <td>...</td>\n",
       "      <td>...</td>\n",
       "      <td>...</td>\n",
       "      <td>...</td>\n",
       "      <td>...</td>\n",
       "    </tr>\n",
       "    <tr>\n",
       "      <td>202</td>\n",
       "      <td>Vodeclic</td>\n",
       "      <td>EdTech</td>\n",
       "      <td>2 000 000 - 3 000 000</td>\n",
       "      <td>500000</td>\n",
       "      <td>0.5</td>\n",
       "    </tr>\n",
       "    <tr>\n",
       "      <td>203</td>\n",
       "      <td>17zuoye</td>\n",
       "      <td>EdTech</td>\n",
       "      <td>1 000 000 000</td>\n",
       "      <td>5000000</td>\n",
       "      <td>5.0</td>\n",
       "    </tr>\n",
       "    <tr>\n",
       "      <td>204</td>\n",
       "      <td>Smart Sparrow</td>\n",
       "      <td>EdTech</td>\n",
       "      <td>30 000 000 - 45 000 000</td>\n",
       "      <td>2000000</td>\n",
       "      <td>2.0</td>\n",
       "    </tr>\n",
       "    <tr>\n",
       "      <td>205</td>\n",
       "      <td>Everfi</td>\n",
       "      <td>EdTech</td>\n",
       "      <td>800 000 000</td>\n",
       "      <td>11000000</td>\n",
       "      <td>11.0</td>\n",
       "    </tr>\n",
       "    <tr>\n",
       "      <td>207</td>\n",
       "      <td>EduFire</td>\n",
       "      <td>EdTech</td>\n",
       "      <td>5 000 000 - 8 000 000</td>\n",
       "      <td>1300000</td>\n",
       "      <td>1.3</td>\n",
       "    </tr>\n",
       "  </tbody>\n",
       "</table>\n",
       "<p>65 rows × 5 columns</p>\n",
       "</div>"
      ],
      "text/plain": [
       "           Company Industry                Valuation   Round_A  Round_A_mln\n",
       "132   IntelliBoard   EdTech  14 000 000 - 20 000 000   3400000          3.4\n",
       "133         BibliU   EdTech    40 000 000-60 000 000  10000000         10.0\n",
       "134       Frame AI   EdTech   25 000 000- 38 000 000   6300000          6.3\n",
       "135      Pulse Q&A   EdTech   26 000 000- 39 000 000   6500000          6.5\n",
       "136      Honorlock   EdTech  46 000 000 - 69 000 000  11500000         11.5\n",
       "..             ...      ...                      ...       ...          ...\n",
       "202       Vodeclic   EdTech    2 000 000 - 3 000 000    500000          0.5\n",
       "203        17zuoye   EdTech            1 000 000 000   5000000          5.0\n",
       "204  Smart Sparrow   EdTech  30 000 000 - 45 000 000   2000000          2.0\n",
       "205         Everfi   EdTech              800 000 000  11000000         11.0\n",
       "207        EduFire   EdTech    5 000 000 - 8 000 000   1300000          1.3\n",
       "\n",
       "[65 rows x 5 columns]"
      ]
     },
     "execution_count": 538,
     "metadata": {},
     "output_type": "execute_result"
    }
   ],
   "source": [
    "df_edtech"
   ]
  },
  {
   "cell_type": "code",
   "execution_count": 539,
   "metadata": {},
   "outputs": [
    {
     "name": "stdout",
     "output_type": "stream",
     "text": [
      "5.0\n",
      "6.0\n",
      "15.5\n"
     ]
    }
   ],
   "source": [
    "gaming_mean = df_gaming.Round_A_mln.median()\n",
    "edtech_mean = df_edtech.Round_A_mln.median()\n",
    "medtech_mean = df_medtech.Round_A_mln.median()\n",
    "print(gaming_mean)\n",
    "print(edtech_mean)\n",
    "print(medtech_mean)"
   ]
  },
  {
   "cell_type": "code",
   "execution_count": 540,
   "metadata": {},
   "outputs": [
    {
     "name": "stdout",
     "output_type": "stream",
     "text": [
      "9.754318782305214\n",
      "5.835894504140864\n",
      "22.511495047837766\n"
     ]
    }
   ],
   "source": [
    "gaming_std = df_gaming.Round_A_mln.std()\n",
    "edtech_std = df_edtech.Round_A_mln.std()\n",
    "medtech_std = df_medtech.Round_A_mln.std()\n",
    "print(gaming_std)\n",
    "print(edtech_std)\n",
    "print(medtech_std)"
   ]
  },
  {
   "cell_type": "code",
   "execution_count": 541,
   "metadata": {},
   "outputs": [],
   "source": [
    "import seaborn as sns\n",
    "import matplotlib.pyplot as plt"
   ]
  },
  {
   "cell_type": "code",
   "execution_count": 554,
   "metadata": {},
   "outputs": [
    {
     "data": {
      "image/png": "[encoded data removed]",
      "text/plain": [
       "<Figure size 1224x936 with 1 Axes>"
      ]
     },
     "metadata": {},
     "output_type": "display_data"
    }
   ],
   "source": [
    "# В чем инсайт !!!!\n",
    "# Были выбраны компании максимально схожие. То есть не просто индустрия гейминга, edtech , medtech. А по геймингу были \n",
    "#По геймингу были выбраны конкретно игровые платформы и разработчки (без беттинга, e-sports, мобильных и настольных игр)\n",
    "#По edtech`у были выбраны только образовательные платформы вроде курсеры(бещ отраслей enterprise software,fintech,\n",
    "# jobs recruitment и др)\n",
    "# по medtech`у только терапевтические компании, которые занимаются конкретными заболеваниям ( не фарма, не биохакинг, \n",
    "# не приложения для телефоноа)\n",
    "\n",
    "# Все данные по раунда А, те это ранняя стадия развития компании. Это значит, что у компнаии есть только концепт, прототип\n",
    "# Не факт, что она начала продавть свою продукцию или хотя бы наладила производственый процесс. Т.е у них еще нет как таковых \n",
    "#материальных активов и других параметров, на которых базируются стандартные методы венчурной оценки \n",
    "# CAPM и ее производные, DCF,Comparables analysis, venture capital method  и другие\n",
    "\n",
    "# Идея : если большой разброс оценки, то это оценка не очень эффективная для компаний на ранних стадиях\n",
    "# так как оценка в базах данных обычно основывается на вышеописанных консервативных методах, то здесь видно, что у оценки \n",
    "# действительно очень большой разброс, что говорит о неээфективности текущих методов оценки для early stage companies\n",
    "\n",
    "fig, ax = plt.subplots()\n",
    "sns.set(style=\"whitegrid\",font_scale = 1.7)\n",
    "ax = sns.boxplot(x = 'Industry', y=\"Round_A_mln\",\n",
    "                 data=df_vc, palette=\"BrBG\",sym = '',order=[\"EdTech\", \"Gaming\",\"MedTech\"])\n",
    "medians = df_vc.groupby(['Industry'])['Round_A_mln'].median()\n",
    "vertical_offset = df_vc['Round_A_mln'].median()*0.1\n",
    "\n",
    "quantiles_25 = round(df_vc.groupby(['Industry'])['Round_A_mln'].quantile(.25),1)\n",
    "quantiles_75 = round(df_vc.groupby(['Industry'])['Round_A_mln'].quantile(.75),1)\n",
    "\n",
    "ax.set_title('Ивестиции в стартапы на раунде А',size=35)\n",
    "ax.set_ylabel('Объем инвестиций в млн')\n",
    "ax.set_xlabel('Индустрия')\n",
    "\n",
    "for xtick in ax.get_xticks():\n",
    "    ax.text(xtick,medians[xtick] + vertical_offset,medians[xtick], \n",
    "            horizontalalignment='left',size=15,color='black',weight='bold')\n",
    "    ax.text(xtick,quantiles_25[xtick] + vertical_offset,quantiles_25[xtick], \n",
    "            horizontalalignment='left',size=15,color='black',weight='bold')\n",
    "    ax.text(xtick,quantiles_75[xtick] + vertical_offset,quantiles_75[xtick], \n",
    "            horizontalalignment='left',size=15,color='black',weight='bold')\n",
    "ax.set(ylim=(0.1,90))\n",
    "fig.set_size_inches(17, 13)"
   ]
  },
  {
   "cell_type": "code",
   "execution_count": 555,
   "metadata": {},
   "outputs": [],
   "source": [
    "fig.savefig('example.png')"
   ]
  }
 ],
 "metadata": {
  "kernelspec": {
   "display_name": "Python 3",
   "language": "python",
   "name": "python3"
  },
  "language_info": {
   "codemirror_mode": {
    "name": "ipython",
    "version": 3
   },
   "file_extension": ".py",
   "mimetype": "text/x-python",
   "name": "python",
   "nbconvert_exporter": "python",
   "pygments_lexer": "ipython3",
   "version": "3.7.4"
  }
 },
 "nbformat": 4,
 "nbformat_minor": 2
}
